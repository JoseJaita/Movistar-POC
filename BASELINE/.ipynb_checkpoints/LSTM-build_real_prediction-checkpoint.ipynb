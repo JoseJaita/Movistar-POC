{
 "cells": [
  {
   "cell_type": "code",
   "execution_count": 1,
   "metadata": {},
   "outputs": [
    {
     "name": "stderr",
     "output_type": "stream",
     "text": [
      "Using TensorFlow backend.\n"
     ]
    },
    {
     "data": {
      "text/plain": [
       "('1.9.0', '2.2.4')"
      ]
     },
     "execution_count": 1,
     "metadata": {},
     "output_type": "execute_result"
    }
   ],
   "source": [
    "from datetime import timedelta, date\n",
    "import os\n",
    "import gc\n",
    "\n",
    "#warning ignore future\n",
    "import warnings\n",
    "warnings.simplefilter(action='ignore', category=FutureWarning)\n",
    "warnings.filterwarnings(\"ignore\")\n",
    "gc.collect()\n",
    "\n",
    "import numpy as np\n",
    "import random as rn\n",
    "import tensorflow as tf\n",
    "import keras\n",
    "from keras import backend as K\n",
    "\n",
    "#-----------------------------Keras reproducible------------------#\n",
    "#COmpatible con python 3.6   no con 3.7\n",
    "#instalar primero keras 2.2.4\n",
    "# luego tensorflow 1.9\n",
    "\n",
    "SEED = 29082013\n",
    "try:\n",
    "    tf.random.set_seed(SEED)\n",
    "except:\n",
    "    tf.set_random_seed(SEED)\n",
    "    \n",
    "os.environ['PYTHONHASHSEED'] = str(SEED)\n",
    "np.random.seed(SEED)\n",
    "rn.seed(SEED)\n",
    "\n",
    "session_conf = tf.ConfigProto(\n",
    "    intra_op_parallelism_threads=1, \n",
    "    inter_op_parallelism_threads=1\n",
    ")\n",
    "sess = tf.Session(\n",
    "    graph=tf.get_default_graph(), \n",
    "    config=session_conf\n",
    ")\n",
    "K.set_session(sess)\n",
    "#-----------------------------------------------------------------#\n",
    "\n",
    "import matplotlib.pyplot as plt\n",
    "import pandas as pd\n",
    "pd.set_option('display.max_rows', 500)\n",
    "pd.set_option('display.max_columns', 500)\n",
    "\n",
    "from sklearn.metrics import mean_squared_error\n",
    "from sklearn.preprocessing import MinMaxScaler\n",
    "from keras.models import Sequential\n",
    "from keras.layers import Dense, LSTM, Bidirectional\n",
    "from keras.optimizers import Adam\n",
    "\n",
    "\n",
    "tf.__version__, keras.__version__"
   ]
  },
  {
   "cell_type": "code",
   "execution_count": 2,
   "metadata": {},
   "outputs": [
    {
     "name": "stdout",
     "output_type": "stream",
     "text": [
      "2015-12-20\n",
      "2015-12-21\n",
      "2015-12-22\n",
      "2015-12-23\n",
      "2015-12-24\n",
      "2015-12-25\n",
      "2015-12-26\n",
      "2015-12-27\n",
      "2015-12-28\n",
      "2015-12-29\n",
      "2015-12-30\n",
      "2015-12-31\n",
      "2016-01-01\n",
      "2016-01-02\n",
      "2016-01-03\n",
      "2016-01-04\n",
      "2016-01-05\n",
      "2016-01-06\n",
      "2016-01-07\n",
      "2016-01-08\n",
      "2016-01-09\n",
      "2016-01-10\n",
      "2016-01-11\n"
     ]
    }
   ],
   "source": [
    "from datetime import timedelta, date\n",
    "\n",
    "def daterange(date1, date2):\n",
    "    for n in range(int ((date2 - date1).days) + 1):\n",
    "        yield date1 + timedelta(n)\n",
    "        \n",
    "start_dt = date(2015, 12, 20)\n",
    "end_dt = date(2016, 1, 11)\n",
    "for dt in daterange(start_dt, end_dt):\n",
    "    print(dt.strftime(\"%Y-%m-%d\"))"
   ]
  },
  {
   "cell_type": "markdown",
   "metadata": {},
   "source": [
    "### Load data"
   ]
  },
  {
   "cell_type": "code",
   "execution_count": 3,
   "metadata": {},
   "outputs": [
    {
     "data": {
      "text/html": [
       "<div>\n",
       "<style scoped>\n",
       "    .dataframe tbody tr th:only-of-type {\n",
       "        vertical-align: middle;\n",
       "    }\n",
       "\n",
       "    .dataframe tbody tr th {\n",
       "        vertical-align: top;\n",
       "    }\n",
       "\n",
       "    .dataframe thead th {\n",
       "        text-align: right;\n",
       "    }\n",
       "</style>\n",
       "<table border=\"1\" class=\"dataframe\">\n",
       "  <thead>\n",
       "    <tr style=\"text-align: right;\">\n",
       "      <th></th>\n",
       "      <th>Date</th>\n",
       "      <th>Open</th>\n",
       "      <th>High</th>\n",
       "      <th>Low</th>\n",
       "      <th>Close</th>\n",
       "      <th>Volume</th>\n",
       "      <th>Name</th>\n",
       "    </tr>\n",
       "  </thead>\n",
       "  <tbody>\n",
       "    <tr>\n",
       "      <th>0</th>\n",
       "      <td>2006-01-03</td>\n",
       "      <td>10.34</td>\n",
       "      <td>10.68</td>\n",
       "      <td>10.32</td>\n",
       "      <td>10.68</td>\n",
       "      <td>201853036</td>\n",
       "      <td>AAPL</td>\n",
       "    </tr>\n",
       "  </tbody>\n",
       "</table>\n",
       "</div>"
      ],
      "text/plain": [
       "        Date   Open   High    Low  Close     Volume  Name\n",
       "0 2006-01-03  10.34  10.68  10.32  10.68  201853036  AAPL"
      ]
     },
     "metadata": {},
     "output_type": "display_data"
    },
    {
     "data": {
      "text/html": [
       "<div>\n",
       "<style scoped>\n",
       "    .dataframe tbody tr th:only-of-type {\n",
       "        vertical-align: middle;\n",
       "    }\n",
       "\n",
       "    .dataframe tbody tr th {\n",
       "        vertical-align: top;\n",
       "    }\n",
       "\n",
       "    .dataframe thead th {\n",
       "        text-align: right;\n",
       "    }\n",
       "</style>\n",
       "<table border=\"1\" class=\"dataframe\">\n",
       "  <thead>\n",
       "    <tr style=\"text-align: right;\">\n",
       "      <th></th>\n",
       "      <th>Date</th>\n",
       "      <th>Open</th>\n",
       "      <th>High</th>\n",
       "      <th>Low</th>\n",
       "      <th>Close</th>\n",
       "      <th>Volume</th>\n",
       "      <th>Name</th>\n",
       "    </tr>\n",
       "  </thead>\n",
       "  <tbody>\n",
       "    <tr>\n",
       "      <th>3018</th>\n",
       "      <td>2017-12-29</td>\n",
       "      <td>170.52</td>\n",
       "      <td>170.59</td>\n",
       "      <td>169.22</td>\n",
       "      <td>169.23</td>\n",
       "      <td>25999922</td>\n",
       "      <td>AAPL</td>\n",
       "    </tr>\n",
       "  </tbody>\n",
       "</table>\n",
       "</div>"
      ],
      "text/plain": [
       "           Date    Open    High     Low   Close    Volume  Name\n",
       "3018 2017-12-29  170.52  170.59  169.22  169.23  25999922  AAPL"
      ]
     },
     "metadata": {},
     "output_type": "display_data"
    }
   ],
   "source": [
    "dataset = pd.read_csv(\n",
    "    'AAPL_2006-01-01_to_2018-01-01.csv', \n",
    "    parse_dates=['Date']\n",
    ").sort_values(\n",
    "    by=['Date'], ascending=True\n",
    ")\n",
    "\n",
    "display(dataset.head(1))\n",
    "display(dataset.tail(1))"
   ]
  },
  {
   "cell_type": "markdown",
   "metadata": {},
   "source": [
    "### DETECCION DE DIAS SIN DATOS"
   ]
  },
  {
   "cell_type": "code",
   "execution_count": 4,
   "metadata": {},
   "outputs": [
    {
     "data": {
      "text/plain": [
       "(4378, (3019, 7), 4379)"
      ]
     },
     "execution_count": 4,
     "metadata": {},
     "output_type": "execute_result"
    }
   ],
   "source": [
    "start_dt = date(2006, 1, 3)\n",
    "end_dt = date(2017, 12, 29)\n",
    "\n",
    "list_complete_date = [\n",
    "    (start_dt + timedelta(n)).strftime(\"%Y-%m-%d\") for n in range(int ((end_dt - start_dt).days) + 1)\n",
    "]\n",
    "\n",
    "(end_dt - start_dt).days, dataset.shape, len(list_complete_date)"
   ]
  },
  {
   "cell_type": "code",
   "execution_count": 5,
   "metadata": {},
   "outputs": [
    {
     "data": {
      "text/html": [
       "<div>\n",
       "<style scoped>\n",
       "    .dataframe tbody tr th:only-of-type {\n",
       "        vertical-align: middle;\n",
       "    }\n",
       "\n",
       "    .dataframe tbody tr th {\n",
       "        vertical-align: top;\n",
       "    }\n",
       "\n",
       "    .dataframe thead th {\n",
       "        text-align: right;\n",
       "    }\n",
       "</style>\n",
       "<table border=\"1\" class=\"dataframe\">\n",
       "  <thead>\n",
       "    <tr style=\"text-align: right;\">\n",
       "      <th></th>\n",
       "      <th>Date</th>\n",
       "      <th>year</th>\n",
       "      <th>month</th>\n",
       "      <th>weekday</th>\n",
       "      <th>week</th>\n",
       "      <th>Open</th>\n",
       "      <th>High</th>\n",
       "      <th>Low</th>\n",
       "      <th>Close</th>\n",
       "      <th>Volume</th>\n",
       "      <th>Name</th>\n",
       "    </tr>\n",
       "  </thead>\n",
       "  <tbody>\n",
       "    <tr>\n",
       "      <th>0</th>\n",
       "      <td>2006-01-03</td>\n",
       "      <td>2006</td>\n",
       "      <td>1</td>\n",
       "      <td>1</td>\n",
       "      <td>1</td>\n",
       "      <td>10.34</td>\n",
       "      <td>10.68</td>\n",
       "      <td>10.32</td>\n",
       "      <td>10.68</td>\n",
       "      <td>201853036.0</td>\n",
       "      <td>AAPL</td>\n",
       "    </tr>\n",
       "    <tr>\n",
       "      <th>1</th>\n",
       "      <td>2006-01-04</td>\n",
       "      <td>2006</td>\n",
       "      <td>1</td>\n",
       "      <td>2</td>\n",
       "      <td>1</td>\n",
       "      <td>10.73</td>\n",
       "      <td>10.85</td>\n",
       "      <td>10.64</td>\n",
       "      <td>10.71</td>\n",
       "      <td>155225609.0</td>\n",
       "      <td>AAPL</td>\n",
       "    </tr>\n",
       "    <tr>\n",
       "      <th>2</th>\n",
       "      <td>2006-01-05</td>\n",
       "      <td>2006</td>\n",
       "      <td>1</td>\n",
       "      <td>3</td>\n",
       "      <td>1</td>\n",
       "      <td>10.69</td>\n",
       "      <td>10.70</td>\n",
       "      <td>10.54</td>\n",
       "      <td>10.63</td>\n",
       "      <td>112396081.0</td>\n",
       "      <td>AAPL</td>\n",
       "    </tr>\n",
       "    <tr>\n",
       "      <th>3</th>\n",
       "      <td>2006-01-06</td>\n",
       "      <td>2006</td>\n",
       "      <td>1</td>\n",
       "      <td>4</td>\n",
       "      <td>1</td>\n",
       "      <td>10.75</td>\n",
       "      <td>10.96</td>\n",
       "      <td>10.65</td>\n",
       "      <td>10.90</td>\n",
       "      <td>176139334.0</td>\n",
       "      <td>AAPL</td>\n",
       "    </tr>\n",
       "    <tr>\n",
       "      <th>4</th>\n",
       "      <td>2006-01-07</td>\n",
       "      <td>2006</td>\n",
       "      <td>1</td>\n",
       "      <td>5</td>\n",
       "      <td>1</td>\n",
       "      <td>NaN</td>\n",
       "      <td>NaN</td>\n",
       "      <td>NaN</td>\n",
       "      <td>NaN</td>\n",
       "      <td>NaN</td>\n",
       "      <td>NaN</td>\n",
       "    </tr>\n",
       "    <tr>\n",
       "      <th>5</th>\n",
       "      <td>2006-01-08</td>\n",
       "      <td>2006</td>\n",
       "      <td>1</td>\n",
       "      <td>6</td>\n",
       "      <td>1</td>\n",
       "      <td>NaN</td>\n",
       "      <td>NaN</td>\n",
       "      <td>NaN</td>\n",
       "      <td>NaN</td>\n",
       "      <td>NaN</td>\n",
       "      <td>NaN</td>\n",
       "    </tr>\n",
       "    <tr>\n",
       "      <th>6</th>\n",
       "      <td>2006-01-09</td>\n",
       "      <td>2006</td>\n",
       "      <td>1</td>\n",
       "      <td>0</td>\n",
       "      <td>2</td>\n",
       "      <td>10.96</td>\n",
       "      <td>11.03</td>\n",
       "      <td>10.82</td>\n",
       "      <td>10.86</td>\n",
       "      <td>168861224.0</td>\n",
       "      <td>AAPL</td>\n",
       "    </tr>\n",
       "  </tbody>\n",
       "</table>\n",
       "</div>"
      ],
      "text/plain": [
       "        Date  year  month  weekday  week   Open   High    Low  Close  \\\n",
       "0 2006-01-03  2006      1        1     1  10.34  10.68  10.32  10.68   \n",
       "1 2006-01-04  2006      1        2     1  10.73  10.85  10.64  10.71   \n",
       "2 2006-01-05  2006      1        3     1  10.69  10.70  10.54  10.63   \n",
       "3 2006-01-06  2006      1        4     1  10.75  10.96  10.65  10.90   \n",
       "4 2006-01-07  2006      1        5     1    NaN    NaN    NaN    NaN   \n",
       "5 2006-01-08  2006      1        6     1    NaN    NaN    NaN    NaN   \n",
       "6 2006-01-09  2006      1        0     2  10.96  11.03  10.82  10.86   \n",
       "\n",
       "        Volume  Name  \n",
       "0  201853036.0  AAPL  \n",
       "1  155225609.0  AAPL  \n",
       "2  112396081.0  AAPL  \n",
       "3  176139334.0  AAPL  \n",
       "4          NaN   NaN  \n",
       "5          NaN   NaN  \n",
       "6  168861224.0  AAPL  "
      ]
     },
     "metadata": {},
     "output_type": "display_data"
    },
    {
     "data": {
      "text/html": [
       "<div>\n",
       "<style scoped>\n",
       "    .dataframe tbody tr th:only-of-type {\n",
       "        vertical-align: middle;\n",
       "    }\n",
       "\n",
       "    .dataframe tbody tr th {\n",
       "        vertical-align: top;\n",
       "    }\n",
       "\n",
       "    .dataframe thead th {\n",
       "        text-align: right;\n",
       "    }\n",
       "</style>\n",
       "<table border=\"1\" class=\"dataframe\">\n",
       "  <thead>\n",
       "    <tr style=\"text-align: right;\">\n",
       "      <th></th>\n",
       "      <th>Date</th>\n",
       "      <th>year</th>\n",
       "      <th>month</th>\n",
       "      <th>weekday</th>\n",
       "      <th>week</th>\n",
       "      <th>Open</th>\n",
       "      <th>High</th>\n",
       "      <th>Low</th>\n",
       "      <th>Close</th>\n",
       "      <th>Volume</th>\n",
       "      <th>Name</th>\n",
       "    </tr>\n",
       "  </thead>\n",
       "  <tbody>\n",
       "    <tr>\n",
       "      <th>4372</th>\n",
       "      <td>2017-12-23</td>\n",
       "      <td>2017</td>\n",
       "      <td>12</td>\n",
       "      <td>5</td>\n",
       "      <td>51</td>\n",
       "      <td>NaN</td>\n",
       "      <td>NaN</td>\n",
       "      <td>NaN</td>\n",
       "      <td>NaN</td>\n",
       "      <td>NaN</td>\n",
       "      <td>NaN</td>\n",
       "    </tr>\n",
       "    <tr>\n",
       "      <th>4373</th>\n",
       "      <td>2017-12-24</td>\n",
       "      <td>2017</td>\n",
       "      <td>12</td>\n",
       "      <td>6</td>\n",
       "      <td>51</td>\n",
       "      <td>NaN</td>\n",
       "      <td>NaN</td>\n",
       "      <td>NaN</td>\n",
       "      <td>NaN</td>\n",
       "      <td>NaN</td>\n",
       "      <td>NaN</td>\n",
       "    </tr>\n",
       "    <tr>\n",
       "      <th>4374</th>\n",
       "      <td>2017-12-25</td>\n",
       "      <td>2017</td>\n",
       "      <td>12</td>\n",
       "      <td>0</td>\n",
       "      <td>52</td>\n",
       "      <td>NaN</td>\n",
       "      <td>NaN</td>\n",
       "      <td>NaN</td>\n",
       "      <td>NaN</td>\n",
       "      <td>NaN</td>\n",
       "      <td>NaN</td>\n",
       "    </tr>\n",
       "    <tr>\n",
       "      <th>4375</th>\n",
       "      <td>2017-12-26</td>\n",
       "      <td>2017</td>\n",
       "      <td>12</td>\n",
       "      <td>1</td>\n",
       "      <td>52</td>\n",
       "      <td>170.80</td>\n",
       "      <td>171.47</td>\n",
       "      <td>169.68</td>\n",
       "      <td>170.57</td>\n",
       "      <td>33185536.0</td>\n",
       "      <td>AAPL</td>\n",
       "    </tr>\n",
       "    <tr>\n",
       "      <th>4376</th>\n",
       "      <td>2017-12-27</td>\n",
       "      <td>2017</td>\n",
       "      <td>12</td>\n",
       "      <td>2</td>\n",
       "      <td>52</td>\n",
       "      <td>170.10</td>\n",
       "      <td>170.78</td>\n",
       "      <td>169.71</td>\n",
       "      <td>170.60</td>\n",
       "      <td>21498213.0</td>\n",
       "      <td>AAPL</td>\n",
       "    </tr>\n",
       "    <tr>\n",
       "      <th>4377</th>\n",
       "      <td>2017-12-28</td>\n",
       "      <td>2017</td>\n",
       "      <td>12</td>\n",
       "      <td>3</td>\n",
       "      <td>52</td>\n",
       "      <td>171.00</td>\n",
       "      <td>171.85</td>\n",
       "      <td>170.48</td>\n",
       "      <td>171.08</td>\n",
       "      <td>16480187.0</td>\n",
       "      <td>AAPL</td>\n",
       "    </tr>\n",
       "    <tr>\n",
       "      <th>4378</th>\n",
       "      <td>2017-12-29</td>\n",
       "      <td>2017</td>\n",
       "      <td>12</td>\n",
       "      <td>4</td>\n",
       "      <td>52</td>\n",
       "      <td>170.52</td>\n",
       "      <td>170.59</td>\n",
       "      <td>169.22</td>\n",
       "      <td>169.23</td>\n",
       "      <td>25999922.0</td>\n",
       "      <td>AAPL</td>\n",
       "    </tr>\n",
       "  </tbody>\n",
       "</table>\n",
       "</div>"
      ],
      "text/plain": [
       "           Date  year  month  weekday  week    Open    High     Low   Close  \\\n",
       "4372 2017-12-23  2017     12        5    51     NaN     NaN     NaN     NaN   \n",
       "4373 2017-12-24  2017     12        6    51     NaN     NaN     NaN     NaN   \n",
       "4374 2017-12-25  2017     12        0    52     NaN     NaN     NaN     NaN   \n",
       "4375 2017-12-26  2017     12        1    52  170.80  171.47  169.68  170.57   \n",
       "4376 2017-12-27  2017     12        2    52  170.10  170.78  169.71  170.60   \n",
       "4377 2017-12-28  2017     12        3    52  171.00  171.85  170.48  171.08   \n",
       "4378 2017-12-29  2017     12        4    52  170.52  170.59  169.22  169.23   \n",
       "\n",
       "          Volume  Name  \n",
       "4372         NaN   NaN  \n",
       "4373         NaN   NaN  \n",
       "4374         NaN   NaN  \n",
       "4375  33185536.0  AAPL  \n",
       "4376  21498213.0  AAPL  \n",
       "4377  16480187.0  AAPL  \n",
       "4378  25999922.0  AAPL  "
      ]
     },
     "metadata": {},
     "output_type": "display_data"
    }
   ],
   "source": [
    "df_date = pd.DataFrame(list_complete_date)\n",
    "df_date.columns = ['Date']\n",
    "df_date['Date'] = pd.to_datetime(df_date['Date'])\n",
    "df_date['year'] = df_date['Date'].dt.year\n",
    "df_date['month'] = df_date['Date'].dt.month\n",
    "df_date['weekday'] = df_date['Date'].dt.weekday\n",
    "df_date['week'] = df_date['Date'].dt.week\n",
    "\n",
    "dataset = df_date.merge(dataset, on='Date', how='left')\n",
    "\n",
    "display(dataset.head(7))\n",
    "display(dataset.tail(7))"
   ]
  },
  {
   "cell_type": "code",
   "execution_count": 6,
   "metadata": {},
   "outputs": [
    {
     "data": {
      "text/html": [
       "<div>\n",
       "<style scoped>\n",
       "    .dataframe tbody tr th:only-of-type {\n",
       "        vertical-align: middle;\n",
       "    }\n",
       "\n",
       "    .dataframe tbody tr th {\n",
       "        vertical-align: top;\n",
       "    }\n",
       "\n",
       "    .dataframe thead th {\n",
       "        text-align: right;\n",
       "    }\n",
       "</style>\n",
       "<table border=\"1\" class=\"dataframe\">\n",
       "  <thead>\n",
       "    <tr style=\"text-align: right;\">\n",
       "      <th></th>\n",
       "      <th>year</th>\n",
       "      <th>month</th>\n",
       "      <th>weekday</th>\n",
       "      <th>week</th>\n",
       "      <th>Open</th>\n",
       "      <th>High</th>\n",
       "      <th>Low</th>\n",
       "      <th>Close</th>\n",
       "      <th>Volume</th>\n",
       "      <th>Name</th>\n",
       "      <th>High_month_median</th>\n",
       "    </tr>\n",
       "    <tr>\n",
       "      <th>Date</th>\n",
       "      <th></th>\n",
       "      <th></th>\n",
       "      <th></th>\n",
       "      <th></th>\n",
       "      <th></th>\n",
       "      <th></th>\n",
       "      <th></th>\n",
       "      <th></th>\n",
       "      <th></th>\n",
       "      <th></th>\n",
       "      <th></th>\n",
       "    </tr>\n",
       "  </thead>\n",
       "  <tbody>\n",
       "    <tr>\n",
       "      <th>2006-01-03</th>\n",
       "      <td>2006</td>\n",
       "      <td>1</td>\n",
       "      <td>1</td>\n",
       "      <td>1</td>\n",
       "      <td>10.34</td>\n",
       "      <td>10.68</td>\n",
       "      <td>10.32</td>\n",
       "      <td>10.68</td>\n",
       "      <td>201853036.0</td>\n",
       "      <td>AAPL</td>\n",
       "      <td>11.21</td>\n",
       "    </tr>\n",
       "    <tr>\n",
       "      <th>2006-01-04</th>\n",
       "      <td>2006</td>\n",
       "      <td>1</td>\n",
       "      <td>2</td>\n",
       "      <td>1</td>\n",
       "      <td>10.73</td>\n",
       "      <td>10.85</td>\n",
       "      <td>10.64</td>\n",
       "      <td>10.71</td>\n",
       "      <td>155225609.0</td>\n",
       "      <td>AAPL</td>\n",
       "      <td>11.21</td>\n",
       "    </tr>\n",
       "    <tr>\n",
       "      <th>2006-01-05</th>\n",
       "      <td>2006</td>\n",
       "      <td>1</td>\n",
       "      <td>3</td>\n",
       "      <td>1</td>\n",
       "      <td>10.69</td>\n",
       "      <td>10.70</td>\n",
       "      <td>10.54</td>\n",
       "      <td>10.63</td>\n",
       "      <td>112396081.0</td>\n",
       "      <td>AAPL</td>\n",
       "      <td>11.21</td>\n",
       "    </tr>\n",
       "    <tr>\n",
       "      <th>2006-01-06</th>\n",
       "      <td>2006</td>\n",
       "      <td>1</td>\n",
       "      <td>4</td>\n",
       "      <td>1</td>\n",
       "      <td>10.75</td>\n",
       "      <td>10.96</td>\n",
       "      <td>10.65</td>\n",
       "      <td>10.90</td>\n",
       "      <td>176139334.0</td>\n",
       "      <td>AAPL</td>\n",
       "      <td>11.21</td>\n",
       "    </tr>\n",
       "    <tr>\n",
       "      <th>2006-01-07</th>\n",
       "      <td>2006</td>\n",
       "      <td>1</td>\n",
       "      <td>5</td>\n",
       "      <td>1</td>\n",
       "      <td>NaN</td>\n",
       "      <td>11.21</td>\n",
       "      <td>NaN</td>\n",
       "      <td>NaN</td>\n",
       "      <td>NaN</td>\n",
       "      <td>NaN</td>\n",
       "      <td>11.21</td>\n",
       "    </tr>\n",
       "    <tr>\n",
       "      <th>2006-01-08</th>\n",
       "      <td>2006</td>\n",
       "      <td>1</td>\n",
       "      <td>6</td>\n",
       "      <td>1</td>\n",
       "      <td>NaN</td>\n",
       "      <td>11.21</td>\n",
       "      <td>NaN</td>\n",
       "      <td>NaN</td>\n",
       "      <td>NaN</td>\n",
       "      <td>NaN</td>\n",
       "      <td>11.21</td>\n",
       "    </tr>\n",
       "    <tr>\n",
       "      <th>2006-01-09</th>\n",
       "      <td>2006</td>\n",
       "      <td>1</td>\n",
       "      <td>0</td>\n",
       "      <td>2</td>\n",
       "      <td>10.96</td>\n",
       "      <td>11.03</td>\n",
       "      <td>10.82</td>\n",
       "      <td>10.86</td>\n",
       "      <td>168861224.0</td>\n",
       "      <td>AAPL</td>\n",
       "      <td>11.21</td>\n",
       "    </tr>\n",
       "    <tr>\n",
       "      <th>2006-01-10</th>\n",
       "      <td>2006</td>\n",
       "      <td>1</td>\n",
       "      <td>1</td>\n",
       "      <td>2</td>\n",
       "      <td>10.89</td>\n",
       "      <td>11.70</td>\n",
       "      <td>10.83</td>\n",
       "      <td>11.55</td>\n",
       "      <td>570088246.0</td>\n",
       "      <td>AAPL</td>\n",
       "      <td>11.21</td>\n",
       "    </tr>\n",
       "    <tr>\n",
       "      <th>2006-01-11</th>\n",
       "      <td>2006</td>\n",
       "      <td>1</td>\n",
       "      <td>2</td>\n",
       "      <td>2</td>\n",
       "      <td>11.98</td>\n",
       "      <td>12.11</td>\n",
       "      <td>11.80</td>\n",
       "      <td>11.99</td>\n",
       "      <td>373548882.0</td>\n",
       "      <td>AAPL</td>\n",
       "      <td>11.21</td>\n",
       "    </tr>\n",
       "    <tr>\n",
       "      <th>2006-01-12</th>\n",
       "      <td>2006</td>\n",
       "      <td>1</td>\n",
       "      <td>3</td>\n",
       "      <td>2</td>\n",
       "      <td>12.14</td>\n",
       "      <td>12.34</td>\n",
       "      <td>11.95</td>\n",
       "      <td>12.04</td>\n",
       "      <td>320201966.0</td>\n",
       "      <td>AAPL</td>\n",
       "      <td>11.21</td>\n",
       "    </tr>\n",
       "    <tr>\n",
       "      <th>2006-01-13</th>\n",
       "      <td>2006</td>\n",
       "      <td>1</td>\n",
       "      <td>4</td>\n",
       "      <td>2</td>\n",
       "      <td>12.14</td>\n",
       "      <td>12.29</td>\n",
       "      <td>12.09</td>\n",
       "      <td>12.23</td>\n",
       "      <td>194153393.0</td>\n",
       "      <td>AAPL</td>\n",
       "      <td>11.21</td>\n",
       "    </tr>\n",
       "    <tr>\n",
       "      <th>2006-01-14</th>\n",
       "      <td>2006</td>\n",
       "      <td>1</td>\n",
       "      <td>5</td>\n",
       "      <td>2</td>\n",
       "      <td>NaN</td>\n",
       "      <td>11.21</td>\n",
       "      <td>NaN</td>\n",
       "      <td>NaN</td>\n",
       "      <td>NaN</td>\n",
       "      <td>NaN</td>\n",
       "      <td>11.21</td>\n",
       "    </tr>\n",
       "    <tr>\n",
       "      <th>2006-01-15</th>\n",
       "      <td>2006</td>\n",
       "      <td>1</td>\n",
       "      <td>6</td>\n",
       "      <td>2</td>\n",
       "      <td>NaN</td>\n",
       "      <td>11.21</td>\n",
       "      <td>NaN</td>\n",
       "      <td>NaN</td>\n",
       "      <td>NaN</td>\n",
       "      <td>NaN</td>\n",
       "      <td>11.21</td>\n",
       "    </tr>\n",
       "    <tr>\n",
       "      <th>2006-01-16</th>\n",
       "      <td>2006</td>\n",
       "      <td>1</td>\n",
       "      <td>0</td>\n",
       "      <td>3</td>\n",
       "      <td>NaN</td>\n",
       "      <td>11.21</td>\n",
       "      <td>NaN</td>\n",
       "      <td>NaN</td>\n",
       "      <td>NaN</td>\n",
       "      <td>NaN</td>\n",
       "      <td>11.21</td>\n",
       "    </tr>\n",
       "    <tr>\n",
       "      <th>2006-01-17</th>\n",
       "      <td>2006</td>\n",
       "      <td>1</td>\n",
       "      <td>1</td>\n",
       "      <td>3</td>\n",
       "      <td>12.24</td>\n",
       "      <td>12.34</td>\n",
       "      <td>11.98</td>\n",
       "      <td>12.10</td>\n",
       "      <td>209215265.0</td>\n",
       "      <td>AAPL</td>\n",
       "      <td>11.21</td>\n",
       "    </tr>\n",
       "    <tr>\n",
       "      <th>2006-01-18</th>\n",
       "      <td>2006</td>\n",
       "      <td>1</td>\n",
       "      <td>2</td>\n",
       "      <td>3</td>\n",
       "      <td>11.87</td>\n",
       "      <td>12.01</td>\n",
       "      <td>11.69</td>\n",
       "      <td>11.78</td>\n",
       "      <td>303279501.0</td>\n",
       "      <td>AAPL</td>\n",
       "      <td>11.21</td>\n",
       "    </tr>\n",
       "    <tr>\n",
       "      <th>2006-01-19</th>\n",
       "      <td>2006</td>\n",
       "      <td>1</td>\n",
       "      <td>3</td>\n",
       "      <td>3</td>\n",
       "      <td>11.61</td>\n",
       "      <td>11.67</td>\n",
       "      <td>11.25</td>\n",
       "      <td>11.29</td>\n",
       "      <td>424100026.0</td>\n",
       "      <td>AAPL</td>\n",
       "      <td>11.21</td>\n",
       "    </tr>\n",
       "    <tr>\n",
       "      <th>2006-01-20</th>\n",
       "      <td>2006</td>\n",
       "      <td>1</td>\n",
       "      <td>4</td>\n",
       "      <td>3</td>\n",
       "      <td>11.33</td>\n",
       "      <td>11.43</td>\n",
       "      <td>10.83</td>\n",
       "      <td>10.87</td>\n",
       "      <td>284634847.0</td>\n",
       "      <td>AAPL</td>\n",
       "      <td>11.21</td>\n",
       "    </tr>\n",
       "    <tr>\n",
       "      <th>2006-01-21</th>\n",
       "      <td>2006</td>\n",
       "      <td>1</td>\n",
       "      <td>5</td>\n",
       "      <td>3</td>\n",
       "      <td>NaN</td>\n",
       "      <td>11.21</td>\n",
       "      <td>NaN</td>\n",
       "      <td>NaN</td>\n",
       "      <td>NaN</td>\n",
       "      <td>NaN</td>\n",
       "      <td>11.21</td>\n",
       "    </tr>\n",
       "    <tr>\n",
       "      <th>2006-01-22</th>\n",
       "      <td>2006</td>\n",
       "      <td>1</td>\n",
       "      <td>6</td>\n",
       "      <td>3</td>\n",
       "      <td>NaN</td>\n",
       "      <td>11.21</td>\n",
       "      <td>NaN</td>\n",
       "      <td>NaN</td>\n",
       "      <td>NaN</td>\n",
       "      <td>NaN</td>\n",
       "      <td>11.21</td>\n",
       "    </tr>\n",
       "    <tr>\n",
       "      <th>2006-01-23</th>\n",
       "      <td>2006</td>\n",
       "      <td>1</td>\n",
       "      <td>0</td>\n",
       "      <td>4</td>\n",
       "      <td>10.87</td>\n",
       "      <td>11.37</td>\n",
       "      <td>10.86</td>\n",
       "      <td>11.10</td>\n",
       "      <td>264942587.0</td>\n",
       "      <td>AAPL</td>\n",
       "      <td>11.21</td>\n",
       "    </tr>\n",
       "    <tr>\n",
       "      <th>2006-01-24</th>\n",
       "      <td>2006</td>\n",
       "      <td>1</td>\n",
       "      <td>1</td>\n",
       "      <td>4</td>\n",
       "      <td>11.25</td>\n",
       "      <td>11.35</td>\n",
       "      <td>10.82</td>\n",
       "      <td>10.86</td>\n",
       "      <td>285661873.0</td>\n",
       "      <td>AAPL</td>\n",
       "      <td>11.21</td>\n",
       "    </tr>\n",
       "    <tr>\n",
       "      <th>2006-01-25</th>\n",
       "      <td>2006</td>\n",
       "      <td>1</td>\n",
       "      <td>2</td>\n",
       "      <td>4</td>\n",
       "      <td>11.06</td>\n",
       "      <td>11.07</td>\n",
       "      <td>10.46</td>\n",
       "      <td>10.60</td>\n",
       "      <td>319019939.0</td>\n",
       "      <td>AAPL</td>\n",
       "      <td>11.21</td>\n",
       "    </tr>\n",
       "    <tr>\n",
       "      <th>2006-01-26</th>\n",
       "      <td>2006</td>\n",
       "      <td>1</td>\n",
       "      <td>3</td>\n",
       "      <td>4</td>\n",
       "      <td>10.65</td>\n",
       "      <td>10.78</td>\n",
       "      <td>10.28</td>\n",
       "      <td>10.33</td>\n",
       "      <td>295599087.0</td>\n",
       "      <td>AAPL</td>\n",
       "      <td>11.21</td>\n",
       "    </tr>\n",
       "    <tr>\n",
       "      <th>2006-01-27</th>\n",
       "      <td>2006</td>\n",
       "      <td>1</td>\n",
       "      <td>4</td>\n",
       "      <td>4</td>\n",
       "      <td>10.42</td>\n",
       "      <td>10.51</td>\n",
       "      <td>10.16</td>\n",
       "      <td>10.29</td>\n",
       "      <td>238597205.0</td>\n",
       "      <td>AAPL</td>\n",
       "      <td>11.21</td>\n",
       "    </tr>\n",
       "  </tbody>\n",
       "</table>\n",
       "</div>"
      ],
      "text/plain": [
       "            year  month  weekday  week   Open   High    Low  Close  \\\n",
       "Date                                                                 \n",
       "2006-01-03  2006      1        1     1  10.34  10.68  10.32  10.68   \n",
       "2006-01-04  2006      1        2     1  10.73  10.85  10.64  10.71   \n",
       "2006-01-05  2006      1        3     1  10.69  10.70  10.54  10.63   \n",
       "2006-01-06  2006      1        4     1  10.75  10.96  10.65  10.90   \n",
       "2006-01-07  2006      1        5     1    NaN  11.21    NaN    NaN   \n",
       "2006-01-08  2006      1        6     1    NaN  11.21    NaN    NaN   \n",
       "2006-01-09  2006      1        0     2  10.96  11.03  10.82  10.86   \n",
       "2006-01-10  2006      1        1     2  10.89  11.70  10.83  11.55   \n",
       "2006-01-11  2006      1        2     2  11.98  12.11  11.80  11.99   \n",
       "2006-01-12  2006      1        3     2  12.14  12.34  11.95  12.04   \n",
       "2006-01-13  2006      1        4     2  12.14  12.29  12.09  12.23   \n",
       "2006-01-14  2006      1        5     2    NaN  11.21    NaN    NaN   \n",
       "2006-01-15  2006      1        6     2    NaN  11.21    NaN    NaN   \n",
       "2006-01-16  2006      1        0     3    NaN  11.21    NaN    NaN   \n",
       "2006-01-17  2006      1        1     3  12.24  12.34  11.98  12.10   \n",
       "2006-01-18  2006      1        2     3  11.87  12.01  11.69  11.78   \n",
       "2006-01-19  2006      1        3     3  11.61  11.67  11.25  11.29   \n",
       "2006-01-20  2006      1        4     3  11.33  11.43  10.83  10.87   \n",
       "2006-01-21  2006      1        5     3    NaN  11.21    NaN    NaN   \n",
       "2006-01-22  2006      1        6     3    NaN  11.21    NaN    NaN   \n",
       "2006-01-23  2006      1        0     4  10.87  11.37  10.86  11.10   \n",
       "2006-01-24  2006      1        1     4  11.25  11.35  10.82  10.86   \n",
       "2006-01-25  2006      1        2     4  11.06  11.07  10.46  10.60   \n",
       "2006-01-26  2006      1        3     4  10.65  10.78  10.28  10.33   \n",
       "2006-01-27  2006      1        4     4  10.42  10.51  10.16  10.29   \n",
       "\n",
       "                 Volume  Name  High_month_median  \n",
       "Date                                              \n",
       "2006-01-03  201853036.0  AAPL              11.21  \n",
       "2006-01-04  155225609.0  AAPL              11.21  \n",
       "2006-01-05  112396081.0  AAPL              11.21  \n",
       "2006-01-06  176139334.0  AAPL              11.21  \n",
       "2006-01-07          NaN   NaN              11.21  \n",
       "2006-01-08          NaN   NaN              11.21  \n",
       "2006-01-09  168861224.0  AAPL              11.21  \n",
       "2006-01-10  570088246.0  AAPL              11.21  \n",
       "2006-01-11  373548882.0  AAPL              11.21  \n",
       "2006-01-12  320201966.0  AAPL              11.21  \n",
       "2006-01-13  194153393.0  AAPL              11.21  \n",
       "2006-01-14          NaN   NaN              11.21  \n",
       "2006-01-15          NaN   NaN              11.21  \n",
       "2006-01-16          NaN   NaN              11.21  \n",
       "2006-01-17  209215265.0  AAPL              11.21  \n",
       "2006-01-18  303279501.0  AAPL              11.21  \n",
       "2006-01-19  424100026.0  AAPL              11.21  \n",
       "2006-01-20  284634847.0  AAPL              11.21  \n",
       "2006-01-21          NaN   NaN              11.21  \n",
       "2006-01-22          NaN   NaN              11.21  \n",
       "2006-01-23  264942587.0  AAPL              11.21  \n",
       "2006-01-24  285661873.0  AAPL              11.21  \n",
       "2006-01-25  319019939.0  AAPL              11.21  \n",
       "2006-01-26  295599087.0  AAPL              11.21  \n",
       "2006-01-27  238597205.0  AAPL              11.21  "
      ]
     },
     "execution_count": 6,
     "metadata": {},
     "output_type": "execute_result"
    }
   ],
   "source": [
    "inputation_key = ['year', 'month']\n",
    "\n",
    "df = dataset.merge(\n",
    "    dataset.groupby(\n",
    "        by=inputation_key\n",
    "    )['High'].median().reset_index().rename(\n",
    "        columns={'High':'High_month_median'}\n",
    "    ),\n",
    "    on=inputation_key,\n",
    "    how='left'\n",
    ")\n",
    "df['High'] = df['High'].combine_first(df['High_month_median'])\n",
    "df = df.set_index('Date')\n",
    "dataset = df.copy()\n",
    "\n",
    "dataset.head(25)"
   ]
  },
  {
   "cell_type": "code",
   "execution_count": 7,
   "metadata": {},
   "outputs": [
    {
     "data": {
      "text/plain": [
       "(Timestamp('2006-01-03 00:00:00'),\n",
       " Timestamp('2017-12-29 00:00:00'),\n",
       " (4379, 11))"
      ]
     },
     "execution_count": 7,
     "metadata": {},
     "output_type": "execute_result"
    }
   ],
   "source": [
    "dataset.index.min(), dataset.index.max(), dataset.shape"
   ]
  },
  {
   "cell_type": "code",
   "execution_count": 8,
   "metadata": {},
   "outputs": [
    {
     "name": "stdout",
     "output_type": "stream",
     "text": [
      "2006-01-03 00:00:00 2017-06-30 00:00:00 (4197, 1)\n",
      "2017-07-01 00:00:00 2017-08-31 00:00:00 (62, 1)\n"
     ]
    }
   ],
   "source": [
    "set_entrenamiento = dataset['2006-01':'2017-06'].iloc[:, 5:6]\n",
    "set_validacion = dataset['2017-07':'2017-08'].iloc[:, 5:6]\n",
    "\n",
    "print(\n",
    "    set_entrenamiento.index.min(), \n",
    "    set_entrenamiento.index.max(), \n",
    "    set_entrenamiento.shape\n",
    ")\n",
    "print(\n",
    "    set_validacion.index.min(), \n",
    "    set_validacion.index.max(), \n",
    "    set_validacion.shape\n",
    ")"
   ]
  },
  {
   "cell_type": "code",
   "execution_count": 9,
   "metadata": {},
   "outputs": [
    {
     "data": {
      "text/plain": [
       "((62, 1), (4197, 1))"
      ]
     },
     "execution_count": 9,
     "metadata": {},
     "output_type": "execute_result"
    }
   ],
   "source": [
    "set_validacion.shape, set_entrenamiento.shape"
   ]
  },
  {
   "cell_type": "code",
   "execution_count": 10,
   "metadata": {},
   "outputs": [
    {
     "data": {
      "text/html": [
       "<div>\n",
       "<style scoped>\n",
       "    .dataframe tbody tr th:only-of-type {\n",
       "        vertical-align: middle;\n",
       "    }\n",
       "\n",
       "    .dataframe tbody tr th {\n",
       "        vertical-align: top;\n",
       "    }\n",
       "\n",
       "    .dataframe thead th {\n",
       "        text-align: right;\n",
       "    }\n",
       "</style>\n",
       "<table border=\"1\" class=\"dataframe\">\n",
       "  <thead>\n",
       "    <tr style=\"text-align: right;\">\n",
       "      <th></th>\n",
       "      <th>High</th>\n",
       "    </tr>\n",
       "    <tr>\n",
       "      <th>Date</th>\n",
       "      <th></th>\n",
       "    </tr>\n",
       "  </thead>\n",
       "  <tbody>\n",
       "    <tr>\n",
       "      <th>2006-01-03</th>\n",
       "      <td>10.68</td>\n",
       "    </tr>\n",
       "  </tbody>\n",
       "</table>\n",
       "</div>"
      ],
      "text/plain": [
       "             High\n",
       "Date             \n",
       "2006-01-03  10.68"
      ]
     },
     "metadata": {},
     "output_type": "display_data"
    },
    {
     "data": {
      "text/html": [
       "<div>\n",
       "<style scoped>\n",
       "    .dataframe tbody tr th:only-of-type {\n",
       "        vertical-align: middle;\n",
       "    }\n",
       "\n",
       "    .dataframe tbody tr th {\n",
       "        vertical-align: top;\n",
       "    }\n",
       "\n",
       "    .dataframe thead th {\n",
       "        text-align: right;\n",
       "    }\n",
       "</style>\n",
       "<table border=\"1\" class=\"dataframe\">\n",
       "  <thead>\n",
       "    <tr style=\"text-align: right;\">\n",
       "      <th></th>\n",
       "      <th>High</th>\n",
       "    </tr>\n",
       "    <tr>\n",
       "      <th>Date</th>\n",
       "      <th></th>\n",
       "    </tr>\n",
       "  </thead>\n",
       "  <tbody>\n",
       "    <tr>\n",
       "      <th>2017-06-30</th>\n",
       "      <td>144.96</td>\n",
       "    </tr>\n",
       "  </tbody>\n",
       "</table>\n",
       "</div>"
      ],
      "text/plain": [
       "              High\n",
       "Date              \n",
       "2017-06-30  144.96"
      ]
     },
     "metadata": {},
     "output_type": "display_data"
    },
    {
     "data": {
      "text/html": [
       "<div>\n",
       "<style scoped>\n",
       "    .dataframe tbody tr th:only-of-type {\n",
       "        vertical-align: middle;\n",
       "    }\n",
       "\n",
       "    .dataframe tbody tr th {\n",
       "        vertical-align: top;\n",
       "    }\n",
       "\n",
       "    .dataframe thead th {\n",
       "        text-align: right;\n",
       "    }\n",
       "</style>\n",
       "<table border=\"1\" class=\"dataframe\">\n",
       "  <thead>\n",
       "    <tr style=\"text-align: right;\">\n",
       "      <th></th>\n",
       "      <th>High</th>\n",
       "    </tr>\n",
       "    <tr>\n",
       "      <th>Date</th>\n",
       "      <th></th>\n",
       "    </tr>\n",
       "  </thead>\n",
       "  <tbody>\n",
       "    <tr>\n",
       "      <th>2017-07-01</th>\n",
       "      <td>150.18</td>\n",
       "    </tr>\n",
       "  </tbody>\n",
       "</table>\n",
       "</div>"
      ],
      "text/plain": [
       "              High\n",
       "Date              \n",
       "2017-07-01  150.18"
      ]
     },
     "metadata": {},
     "output_type": "display_data"
    },
    {
     "data": {
      "text/html": [
       "<div>\n",
       "<style scoped>\n",
       "    .dataframe tbody tr th:only-of-type {\n",
       "        vertical-align: middle;\n",
       "    }\n",
       "\n",
       "    .dataframe tbody tr th {\n",
       "        vertical-align: top;\n",
       "    }\n",
       "\n",
       "    .dataframe thead th {\n",
       "        text-align: right;\n",
       "    }\n",
       "</style>\n",
       "<table border=\"1\" class=\"dataframe\">\n",
       "  <thead>\n",
       "    <tr style=\"text-align: right;\">\n",
       "      <th></th>\n",
       "      <th>High</th>\n",
       "    </tr>\n",
       "    <tr>\n",
       "      <th>Date</th>\n",
       "      <th></th>\n",
       "    </tr>\n",
       "  </thead>\n",
       "  <tbody>\n",
       "    <tr>\n",
       "      <th>2017-08-31</th>\n",
       "      <td>164.52</td>\n",
       "    </tr>\n",
       "  </tbody>\n",
       "</table>\n",
       "</div>"
      ],
      "text/plain": [
       "              High\n",
       "Date              \n",
       "2017-08-31  164.52"
      ]
     },
     "metadata": {},
     "output_type": "display_data"
    }
   ],
   "source": [
    "display(set_entrenamiento.head(1))\n",
    "display(set_entrenamiento.tail(1))\n",
    "display(set_validacion.head(1))\n",
    "display(set_validacion.tail(1))"
   ]
  },
  {
   "cell_type": "code",
   "execution_count": 11,
   "metadata": {},
   "outputs": [
    {
     "data": {
      "image/png": "[encoded data removed]",
      "text/plain": [
       "<Figure size 1080x360 with 1 Axes>"
      ]
     },
     "metadata": {
      "needs_background": "light"
     },
     "output_type": "display_data"
    }
   ],
   "source": [
    "set_entrenamiento['High'].plot(legend=True, figsize=(15, 5))\n",
    "set_validacion['High'].plot(legend=True)\n",
    "\n",
    "plt.legend(['Entrenamiento (2006-2016)', 'Validación (2017)'])\n",
    "plt.show()"
   ]
  },
  {
   "cell_type": "code",
   "execution_count": 12,
   "metadata": {},
   "outputs": [
    {
     "data": {
      "text/plain": [
       "(7, 1)"
      ]
     },
     "execution_count": 12,
     "metadata": {},
     "output_type": "execute_result"
    }
   ],
   "source": [
    "time_step = 7\n",
    "set_entrenamiento[-1*time_step:].shape"
   ]
  },
  {
   "cell_type": "code",
   "execution_count": 13,
   "metadata": {},
   "outputs": [
    {
     "data": {
      "text/plain": [
       "Date\n",
       "2017-06-24    147.015\n",
       "2017-06-25    147.015\n",
       "Name: High, dtype: float64"
      ]
     },
     "metadata": {},
     "output_type": "display_data"
    },
    {
     "data": {
      "text/plain": [
       "Date\n",
       "2017-06-29    145.13\n",
       "2017-06-30    144.96\n",
       "Name: High, dtype: float64"
      ]
     },
     "metadata": {},
     "output_type": "display_data"
    }
   ],
   "source": [
    "real_test = set_entrenamiento[-1*time_step:]\n",
    "\n",
    "display(real_test['High'].head(2))\n",
    "display(real_test['High'].tail(2))"
   ]
  },
  {
   "cell_type": "markdown",
   "metadata": {},
   "source": [
    "## Modeling"
   ]
  },
  {
   "cell_type": "code",
   "execution_count": 14,
   "metadata": {},
   "outputs": [
    {
     "data": {
      "text/plain": [
       "(4197, 1)"
      ]
     },
     "execution_count": 14,
     "metadata": {},
     "output_type": "execute_result"
    }
   ],
   "source": [
    "# Normalización del set de entrenamiento\n",
    "\n",
    "sc = MinMaxScaler(\n",
    "    feature_range=(0, 1)\n",
    ")\n",
    "set_entrenamiento_escalado = sc.fit_transform(set_entrenamiento)\n",
    "#set_entrenamiento_escalado = set_entrenamiento.copy().values\n",
    "set_entrenamiento_escalado.shape"
   ]
  },
  {
   "cell_type": "code",
   "execution_count": 15,
   "metadata": {},
   "outputs": [],
   "source": [
    "pd.set_option('display.max_rows', 500)\n",
    "pd.set_option('display.max_columns', 500)"
   ]
  },
  {
   "cell_type": "code",
   "execution_count": 16,
   "metadata": {},
   "outputs": [],
   "source": [
    "X_train = []\n",
    "Y_train = []\n",
    "m = len(set_entrenamiento_escalado)\n",
    "\n",
    "for i in range(time_step, m):\n",
    "    X_train.append(\n",
    "        set_entrenamiento_escalado[i - time_step: i, 0]\n",
    "    )\n",
    "    Y_train.append(\n",
    "        set_entrenamiento_escalado[i, 0]\n",
    "    )\n",
    "    \n",
    "X_train, Y_train = np.array(X_train), np.array(Y_train)"
   ]
  },
  {
   "cell_type": "code",
   "execution_count": 17,
   "metadata": {},
   "outputs": [
    {
     "data": {
      "text/plain": [
       "((4190, 7), (4190,))"
      ]
     },
     "execution_count": 17,
     "metadata": {},
     "output_type": "execute_result"
    }
   ],
   "source": [
    "X_train.shape, Y_train.shape"
   ]
  },
  {
   "cell_type": "code",
   "execution_count": 18,
   "metadata": {},
   "outputs": [
    {
     "data": {
      "text/plain": [
       "array([0.02092696, 0.02206721, 0.0210611 , 0.02280502, 0.02448186,\n",
       "       0.02448186, 0.02327453])"
      ]
     },
     "metadata": {},
     "output_type": "display_data"
    }
   ],
   "source": [
    "display(X_train[0])"
   ]
  },
  {
   "cell_type": "code",
   "execution_count": 19,
   "metadata": {},
   "outputs": [
    {
     "data": {
      "text/plain": [
       "array([[0.02092696],\n",
       "       [0.02206721],\n",
       "       [0.0210611 ],\n",
       "       [0.02280502],\n",
       "       [0.02448186],\n",
       "       [0.02448186],\n",
       "       [0.02327453]])"
      ]
     },
     "metadata": {},
     "output_type": "display_data"
    }
   ],
   "source": [
    "X_train = np.reshape(\n",
    "    X_train, \n",
    "    (X_train.shape[0], X_train.shape[1], 1)\n",
    ")\n",
    "\n",
    "display(X_train[0])"
   ]
  },
  {
   "cell_type": "code",
   "execution_count": 20,
   "metadata": {},
   "outputs": [],
   "source": [
    "# Red LSTM\n",
    "#\n",
    "dim_entrada = (X_train.shape[1], 1)\n",
    "dim_salida = 1\n",
    "epochs = 10\n",
    "na = 200\n",
    "batch_size = 32\n",
    "lr = 0.0001"
   ]
  },
  {
   "cell_type": "code",
   "execution_count": 21,
   "metadata": {},
   "outputs": [],
   "source": [
    "#help(Bidirectional)"
   ]
  },
  {
   "cell_type": "code",
   "execution_count": 22,
   "metadata": {},
   "outputs": [],
   "source": [
    "#help(LSTM)"
   ]
  },
  {
   "cell_type": "code",
   "execution_count": 23,
   "metadata": {},
   "outputs": [
    {
     "name": "stdout",
     "output_type": "stream",
     "text": [
      "Epoch 1/10\n",
      "4190/4190 [==============================] - 27s 6ms/step - loss: 0.0459\n",
      "Epoch 2/10\n",
      "4190/4190 [==============================] - 25s 6ms/step - loss: 1.2615e-04\n",
      "Epoch 3/10\n",
      "4190/4190 [==============================] - 25s 6ms/step - loss: 1.2285e-04\n",
      "Epoch 4/10\n",
      "4190/4190 [==============================] - 26s 6ms/step - loss: 1.2212e-04\n",
      "Epoch 5/10\n",
      "4190/4190 [==============================] - 25s 6ms/step - loss: 1.2019e-04\n",
      "Epoch 6/10\n",
      "4190/4190 [==============================] - 26s 6ms/step - loss: 1.2107e-04\n",
      "Epoch 7/10\n",
      "4190/4190 [==============================] - 24s 6ms/step - loss: 1.2141e-04\n",
      "Epoch 8/10\n",
      "4190/4190 [==============================] - 25s 6ms/step - loss: 1.2121e-04\n",
      "Epoch 9/10\n",
      "4190/4190 [==============================] - 26s 6ms/step - loss: 1.2350e-04\n",
      "Epoch 10/10\n",
      "4190/4190 [==============================] - 25s 6ms/step - loss: 1.1954e-04\n"
     ]
    },
    {
     "data": {
      "text/plain": [
       "<keras.callbacks.History at 0x7fcc1243c208>"
      ]
     },
     "execution_count": 23,
     "metadata": {},
     "output_type": "execute_result"
    }
   ],
   "source": [
    "modelo = Sequential()\n",
    "modelo.add(\n",
    "    Bidirectional(LSTM(units=na,  activation='relu', return_sequences=True, input_shape=dim_entrada))\n",
    ")\n",
    "modelo.add(\n",
    "    Bidirectional(LSTM(units=na, activation='relu'))\n",
    ")\n",
    "modelo.add(\n",
    "    Dense(units=dim_salida)\n",
    ")\n",
    "modelo.compile(\n",
    "    optimizer=Adam(lr=lr),\n",
    "    loss='mse'\n",
    ")\n",
    "modelo.fit(\n",
    "    X_train, \n",
    "    Y_train, \n",
    "    epochs=epochs, \n",
    "    batch_size=batch_size\n",
    ")"
   ]
  },
  {
   "cell_type": "code",
   "execution_count": 24,
   "metadata": {},
   "outputs": [
    {
     "data": {
      "text/plain": [
       "((62, 1), (7, 1))"
      ]
     },
     "execution_count": 24,
     "metadata": {},
     "output_type": "execute_result"
    }
   ],
   "source": [
    "set_validacion.shape, real_test.shape"
   ]
  },
  {
   "cell_type": "code",
   "execution_count": 25,
   "metadata": {},
   "outputs": [
    {
     "data": {
      "text/plain": [
       "(7, 1)"
      ]
     },
     "execution_count": 25,
     "metadata": {},
     "output_type": "execute_result"
    }
   ],
   "source": [
    "#\n",
    "# Validación (predicción del valor de las acciones)\n",
    "#\n",
    "x_test = real_test.values\n",
    "x_test = sc.transform(x_test)\n",
    "x_test.shape"
   ]
  },
  {
   "cell_type": "code",
   "execution_count": 26,
   "metadata": {},
   "outputs": [
    {
     "data": {
      "text/plain": [
       "((7, 1), (7, 1))"
      ]
     },
     "execution_count": 26,
     "metadata": {},
     "output_type": "execute_result"
    }
   ],
   "source": [
    "x_test.shape, x_test[-1*time_step:].shape"
   ]
  },
  {
   "cell_type": "code",
   "execution_count": 27,
   "metadata": {},
   "outputs": [
    {
     "data": {
      "text/plain": [
       "(7, 1)"
      ]
     },
     "execution_count": 27,
     "metadata": {},
     "output_type": "execute_result"
    }
   ],
   "source": [
    "x_test.shape"
   ]
  },
  {
   "cell_type": "code",
   "execution_count": 28,
   "metadata": {},
   "outputs": [],
   "source": [
    "nn = set_validacion.shape[0]\n",
    "index_validacion = set_validacion.index.copy()\n",
    "_x_test = x_test.copy()\n",
    "list_forecast = []\n",
    "\n",
    "for i in range(nn):\n",
    "    test_predict = np.array(\n",
    "        [_x_test[-1*time_step:]]\n",
    "    )\n",
    "    \n",
    "    test_predict = np.reshape(\n",
    "        test_predict, (test_predict.shape[0], test_predict.shape[1], 1)\n",
    "    )\n",
    "\n",
    "    prediccion = modelo.predict(test_predict)\n",
    "\n",
    "    _x_test = np.append(_x_test, prediccion, axis=0)\n",
    "\n",
    "    list_forecast.append(sc.inverse_transform(prediccion)[0][0])\n",
    "    #list_forecast.append(prediccion[0][0])"
   ]
  },
  {
   "cell_type": "code",
   "execution_count": 29,
   "metadata": {},
   "outputs": [
    {
     "data": {
      "text/plain": [
       "((7, 1), (69, 1), 62)"
      ]
     },
     "execution_count": 29,
     "metadata": {},
     "output_type": "execute_result"
    }
   ],
   "source": [
    "x_test.shape, _x_test.shape, len(list_forecast)"
   ]
  },
  {
   "cell_type": "code",
   "execution_count": 30,
   "metadata": {},
   "outputs": [
    {
     "data": {
      "text/plain": [
       "Date\n",
       "2017-07-01    147.099365\n",
       "2017-07-02    147.068542\n",
       "2017-07-03    147.077927\n",
       "2017-07-04    146.947006\n",
       "2017-07-05    147.079132\n",
       "2017-07-06    147.245178\n",
       "2017-07-07    147.556396\n",
       "2017-07-08    147.914200\n",
       "2017-07-09    148.038437\n",
       "2017-07-10    148.191147\n",
       "2017-07-11    148.365616\n",
       "2017-07-12    148.580444\n",
       "2017-07-13    148.806030\n",
       "2017-07-14    149.038162\n",
       "2017-07-15    149.259201\n",
       "2017-07-16    149.463638\n",
       "2017-07-17    149.680130\n",
       "2017-07-18    149.905548\n",
       "2017-07-19    150.137985\n",
       "2017-07-20    150.373032\n",
       "2017-07-21    150.609650\n",
       "2017-07-22    150.847488\n",
       "2017-07-23    151.088272\n",
       "2017-07-24    151.334534\n",
       "2017-07-25    151.585251\n",
       "2017-07-26    151.839859\n",
       "2017-07-27    152.097977\n",
       "2017-07-28    152.359802\n",
       "2017-07-29    152.625641\n",
       "2017-07-30    152.895889\n",
       "2017-07-31    153.170715\n",
       "2017-08-01    153.450058\n",
       "2017-08-02    153.733887\n",
       "2017-08-03    154.022369\n",
       "2017-08-04    154.315659\n",
       "2017-08-05    154.613953\n",
       "2017-08-06    154.917343\n",
       "2017-08-07    155.225998\n",
       "2017-08-08    155.540039\n",
       "2017-08-09    155.859589\n",
       "2017-08-10    156.184830\n",
       "2017-08-11    156.515900\n",
       "2017-08-12    156.852997\n",
       "2017-08-13    157.196304\n",
       "2017-08-14    157.545929\n",
       "2017-08-15    157.902039\n",
       "2017-08-16    158.264908\n",
       "2017-08-17    158.634689\n",
       "2017-08-18    159.011627\n",
       "2017-08-19    159.395889\n",
       "2017-08-20    159.787750\n",
       "2017-08-21    160.187393\n",
       "2017-08-22    160.595093\n",
       "2017-08-23    161.011169\n",
       "2017-08-24    161.435760\n",
       "2017-08-25    161.869263\n",
       "2017-08-26    162.311920\n",
       "2017-08-27    162.764038\n",
       "2017-08-28    163.225937\n",
       "2017-08-29    163.697769\n",
       "2017-08-30    164.179855\n",
       "2017-08-31    164.672745\n",
       "dtype: float64"
      ]
     },
     "execution_count": 30,
     "metadata": {},
     "output_type": "execute_result"
    }
   ],
   "source": [
    "serie_result = pd.Series(list_forecast, index=index_validacion)\n",
    "serie_result.head(200)"
   ]
  },
  {
   "cell_type": "code",
   "execution_count": 31,
   "metadata": {},
   "outputs": [
    {
     "data": {
      "text/plain": [
       "Date\n",
       "2017-07-01    150.18\n",
       "2017-07-02    150.18\n",
       "2017-07-03    145.30\n",
       "2017-07-04    150.18\n",
       "2017-07-05    144.79\n",
       "2017-07-06    143.50\n",
       "2017-07-07    144.75\n",
       "2017-07-08    150.18\n",
       "2017-07-09    150.18\n",
       "2017-07-10    145.95\n",
       "2017-07-11    145.85\n",
       "2017-07-12    146.18\n",
       "2017-07-13    148.49\n",
       "2017-07-14    149.33\n",
       "2017-07-15    150.18\n",
       "2017-07-16    150.18\n",
       "2017-07-17    150.90\n",
       "2017-07-18    150.13\n",
       "2017-07-19    151.42\n",
       "2017-07-20    151.74\n",
       "2017-07-21    150.44\n",
       "2017-07-22    150.18\n",
       "2017-07-23    150.18\n",
       "2017-07-24    152.44\n",
       "2017-07-25    153.84\n",
       "Name: High, dtype: float64"
      ]
     },
     "execution_count": 31,
     "metadata": {},
     "output_type": "execute_result"
    }
   ],
   "source": [
    "set_validacion['High'].head(25)"
   ]
  },
  {
   "cell_type": "code",
   "execution_count": 32,
   "metadata": {},
   "outputs": [
    {
     "data": {
      "text/plain": [
       "7.416682862144787"
      ]
     },
     "execution_count": 32,
     "metadata": {},
     "output_type": "execute_result"
    }
   ],
   "source": [
    "from sklearn.metrics import mean_squared_error\n",
    "\n",
    "mean_squared_error(\n",
    "    set_validacion['High'], serie_result\n",
    ")"
   ]
  },
  {
   "cell_type": "code",
   "execution_count": 33,
   "metadata": {},
   "outputs": [
    {
     "data": {
      "image/png": "[encoded data removed]",
      "text/plain": [
       "<Figure size 1800x576 with 1 Axes>"
      ]
     },
     "metadata": {
      "needs_background": "light"
     },
     "output_type": "display_data"
    }
   ],
   "source": [
    "# Graficar resultados\n",
    "fig, axes = plt.subplots(nrows=1, ncols=1, figsize=(25, 8))\n",
    "\n",
    "axes.plot(set_entrenamiento['High'], color='green', label='Valor real pasado')\n",
    "plt.plot(set_validacion['High'], color='red', label='Valor real de la métrica')\n",
    "plt.plot(serie_result, color='blue', label='Predicción de la métrica')\n",
    "\n",
    "\n",
    "#axes.axvline(set_entrenamiento.index[1698], color=\"blue\", linestyle=\"--\", lw=2)\n",
    "#axes.axvline(set_entrenamiento.index[2300], color=\"blue\", linestyle=\"--\", lw=2)\n",
    "\n",
    "#axes.axvline(set_validacion_init.index[160], color=\"blue\", linestyle=\"--\", lw=2)\n",
    "#axes.axvline(set_validacion_init.index[230], color=\"blue\", linestyle=\"--\", lw=2)\n",
    "#axes.axvline(set_validacion_init.index[240], color=\"blue\", linestyle=\"--\", lw=2)\n",
    "\n",
    "#plt.ylim(1.1 * np.min(prediccion)/2, 1.1 * np.max(prediccion))\n",
    "\n",
    "plt.xlabel('Tiempo')\n",
    "plt.ylabel('Métrica')\n",
    "plt.legend()\n",
    "plt.show()"
   ]
  },
  {
   "cell_type": "code",
   "execution_count": null,
   "metadata": {},
   "outputs": [],
   "source": []
  },
  {
   "cell_type": "code",
   "execution_count": null,
   "metadata": {},
   "outputs": [],
   "source": []
  },
  {
   "cell_type": "code",
   "execution_count": null,
   "metadata": {},
   "outputs": [],
   "source": []
  }
 ],
 "metadata": {
  "kernelspec": {
   "display_name": "Python 3",
   "language": "python",
   "name": "python3"
  },
  "language_info": {
   "codemirror_mode": {
    "name": "ipython",
    "version": 3
   },
   "file_extension": ".py",
   "mimetype": "text/x-python",
   "name": "python",
   "nbconvert_exporter": "python",
   "pygments_lexer": "ipython3",
   "version": "3.6.10"
  }
 },
 "nbformat": 4,
 "nbformat_minor": 4
}
