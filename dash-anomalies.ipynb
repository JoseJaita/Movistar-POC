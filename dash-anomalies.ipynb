{
 "cells": [
  {
   "cell_type": "code",
   "execution_count": 1,
   "metadata": {},
   "outputs": [],
   "source": [
    "# Nativos\n",
    "import random as rn\n",
    "import os\n",
    "import sys\n",
    "import gc\n",
    "\n",
    "#calculo\n",
    "import numpy as np\n",
    "import pandas as pd\n",
    "import scipy\n",
    "\n",
    "#grafico\n",
    "import matplotlib.pyplot as plt\n",
    "import seaborn as sns\n",
    "from IPython.display import display\n",
    "%matplotlib inline\n",
    "sns.set(style=\"whitegrid\")\n",
    "\n",
    "#warning ignore future\n",
    "import warnings\n",
    "# warnings.simplefilter(action='ignore', category=FutureWarning)\n",
    "warnings.filterwarnings(\"ignore\")\n",
    "gc.collect()\n",
    "\n",
    "SEED = 29082013\n",
    "os.environ['PYTHONHASHSEED'] = str(SEED)\n",
    "np.random.seed(SEED)\n",
    "rn.seed(SEED)\n",
    "\n",
    "sub_folder = 'data'"
   ]
  },
  {
   "cell_type": "code",
   "execution_count": 2,
   "metadata": {},
   "outputs": [],
   "source": [
    "import dash\n",
    "from dash.dependencies import Output, Input\n",
    "import dash_core_components as dcc\n",
    "import dash_html_components as html\n",
    "import plotly\n",
    "import random\n",
    "import plotly.graph_objs as go\n",
    "from collections import deque"
   ]
  },
  {
   "cell_type": "code",
   "execution_count": 3,
   "metadata": {},
   "outputs": [],
   "source": [
    "#pip install dash"
   ]
  },
  {
   "cell_type": "code",
   "execution_count": 4,
   "metadata": {},
   "outputs": [],
   "source": [
    "columns_servidores = ['tiempo','servidor','path', 'metrica', 'value', 'muestreo']\n",
    "\n",
    "name_cms = 'data/AplicacionCMS'\n",
    "name_crm = 'data/AplicacionCRM-MOVIL'\n",
    "name_trb = 'data/AplicativoTRB'"
   ]
  },
  {
   "cell_type": "code",
   "execution_count": 5,
   "metadata": {},
   "outputs": [],
   "source": [
    "def read_servidores(csv_name):\n",
    "    data = pd.read_csv(csv_name, sep = ',', header = None)\n",
    "    data.columns = columns_servidores\n",
    "    \n",
    "    data['tiempo'] = pd.to_datetime(data['tiempo'])\n",
    "    data = data.sort_values(by=['tiempo'])\n",
    "\n",
    "    data.set_index('tiempo', inplace=True)\n",
    "    return data\n",
    "\n",
    "\n",
    "def read_incidencias(excel_name):\n",
    "    data = pd.read_excel(excel_name)\n",
    "    \n",
    "    data['tiempo'] = data['Fecha'].astype(str) + ' ' + data['HORA INICIO'].astype(str)\n",
    "    \n",
    "    data['tiempo'] = pd.to_datetime(\n",
    "        data['tiempo'],errors='coerce',format='%Y/%m/%d %H:%M:%S'\n",
    "    )\n",
    "    \n",
    "    data = data.sort_values(by=['tiempo'])\n",
    "    data.set_index('tiempo', inplace=True)\n",
    "    \n",
    "    return data\n",
    "\n",
    "def read_incidencias2(excel_name):\n",
    "    data = pd.read_excel(excel_name)\n",
    "    \n",
    "    data['tiempo'] = data['FECHA DE INICIO'].astype(str) + ' ' + data['HORA DE INICIO'].astype(str)\n",
    "    \n",
    "    data['tiempo'] = pd.to_datetime(\n",
    "        data['tiempo'],errors='coerce',format='%Y/%m/%d %H:%M:%S'\n",
    "    )\n",
    "    \n",
    "    data = data.sort_values(by=['tiempo'])\n",
    "    data.set_index('tiempo', inplace=True)\n",
    "    \n",
    "    return data"
   ]
  },
  {
   "cell_type": "markdown",
   "metadata": {},
   "source": [
    "## MCSS"
   ]
  },
  {
   "cell_type": "code",
   "execution_count": 6,
   "metadata": {},
   "outputs": [],
   "source": [
    "#mcss_servidores = read_servidores(name_mcss + 'MCSS - Servidores - AGO2019_ENE2020.csv')"
   ]
  },
  {
   "cell_type": "code",
   "execution_count": 7,
   "metadata": {},
   "outputs": [],
   "source": [
    "#mcss_incidencias = read_incidencias(name_mcss + 'MCSS - Datos de Servicio completo.xlsx')"
   ]
  },
  {
   "cell_type": "code",
   "execution_count": 8,
   "metadata": {},
   "outputs": [],
   "source": [
    "#mcss_servidores_group = mcss_servidores.groupby(by=['servidor', 'metrica', 'path'])"
   ]
  },
  {
   "cell_type": "markdown",
   "metadata": {},
   "source": [
    "# CRM"
   ]
  },
  {
   "cell_type": "code",
   "execution_count": 9,
   "metadata": {},
   "outputs": [],
   "source": [
    "crm_servidores = read_servidores(\n",
    "    os.path.join(\n",
    "    os.path.abspath(os.getcwd()),\n",
    "    'CRM-MOVIL/CRM - Servidores - AGO2019_ENE2020.csv'\n",
    ")\n",
    ")"
   ]
  },
  {
   "cell_type": "code",
   "execution_count": 10,
   "metadata": {},
   "outputs": [],
   "source": [
    "crm_incidencias = read_incidencias(\n",
    "    os.path.join(\n",
    "    os.path.abspath(os.getcwd()),\n",
    "    'CRM-MOVIL/CRM - Datos de Servicio completo.xlsx'\n",
    ")\n",
    ")"
   ]
  },
  {
   "cell_type": "code",
   "execution_count": 38,
   "metadata": {},
   "outputs": [],
   "source": [
    "crm_servidores_group = crm_servidores.groupby(by=['servidor', 'metrica', 'path'])"
   ]
  },
  {
   "cell_type": "code",
   "execution_count": 159,
   "metadata": {},
   "outputs": [],
   "source": [
    "#incidencias = crm_incidencias"
   ]
  },
  {
   "cell_type": "code",
   "execution_count": null,
   "metadata": {},
   "outputs": [],
   "source": []
  },
  {
   "cell_type": "markdown",
   "metadata": {},
   "source": [
    "## CMS"
   ]
  },
  {
   "cell_type": "code",
   "execution_count": 11,
   "metadata": {},
   "outputs": [],
   "source": [
    "#CMS_servidores = read_servidores('data/otro1/CMS - INC00000003265934 - Servidores involucrados CMS.csv') "
   ]
  },
  {
   "cell_type": "code",
   "execution_count": 165,
   "metadata": {},
   "outputs": [],
   "source": [
    "#CMS_incidencias = read_incidencias2('data/incidencias/Registro de INCIDENCIAS - 6 MESES.xlsx')"
   ]
  },
  {
   "cell_type": "code",
   "execution_count": 39,
   "metadata": {},
   "outputs": [],
   "source": [
    "#CMS_servidores_group = CMS_servidores.groupby(by=['servidor', 'metrica', 'path'])"
   ]
  },
  {
   "cell_type": "code",
   "execution_count": 172,
   "metadata": {},
   "outputs": [],
   "source": [
    "#CMS_servidores_group.first()"
   ]
  },
  {
   "cell_type": "code",
   "execution_count": null,
   "metadata": {},
   "outputs": [],
   "source": []
  },
  {
   "cell_type": "markdown",
   "metadata": {},
   "source": [
    "## obtener por servidor"
   ]
  },
  {
   "cell_type": "markdown",
   "metadata": {},
   "source": [
    "### CRM"
   ]
  },
  {
   "cell_type": "code",
   "execution_count": 40,
   "metadata": {},
   "outputs": [],
   "source": [
    "prd11crm_cpu = crm_servidores_group.get_group(('prd11crm','QOS_CPU_USAGE','prd11crm')).copy()\n",
    "prd11crm_mem = crm_servidores_group.get_group(('prd11crm','QOS_MEMORY_PERC_USAGE','prd11crm')).copy()\n",
    "\n",
    "\n",
    "prd19crm_cpu = crm_servidores_group.get_group(('prd19crm','QOS_CPU_USAGE','prd19crm')).copy()\n",
    "prd19crm_mem = crm_servidores_group.get_group(('prd19crm','QOS_MEMORY_PERC_USAGE','prd19crm')).copy()"
   ]
  },
  {
   "cell_type": "code",
   "execution_count": 41,
   "metadata": {},
   "outputs": [],
   "source": [
    "names_servidores = ['prd11crm', 'prd19crm']\n",
    "list_cpus = [prd11crm_cpu, prd19crm_cpu]\n",
    "list_mems = [prd11crm_mem, prd19crm_mem]\n",
    "\n",
    "incidencias = crm_incidencias.copy()\n",
    "incidencias['value'] = 1000"
   ]
  },
  {
   "cell_type": "markdown",
   "metadata": {},
   "source": [
    "### CMS"
   ]
  },
  {
   "cell_type": "code",
   "execution_count": 173,
   "metadata": {},
   "outputs": [],
   "source": [
    "\"\"\"\n",
    "sun6c52_cpu = CMS_servidores_group.get_group(('sun6c52','QOS_CPU_USAGE','sun6c52')).copy()\n",
    "sun6c52_mem = CMS_servidores_group.get_group(('sun6c52','QOS_MEMORY_PERC_USAGE','sun6c52')).copy()\n",
    "\n",
    "SUN6C57_cpu = CMS_servidores_group.get_group(('SUN6C57','QOS_CPU_USAGE','sun6c57')).copy()\n",
    "SUN6C57_mem = CMS_servidores_group.get_group(('SUN6C57','QOS_MEMORY_PERC_USAGE','sun6c57')).copy()\n",
    "\"\"\""
   ]
  },
  {
   "cell_type": "code",
   "execution_count": 42,
   "metadata": {},
   "outputs": [
    {
     "data": {
      "text/plain": [
       "\"\\nnames_servidores = ['sun6c52', 'SUN6C57']\\nlist_cpus = [sun6c52_cpu, SUN6C57_cpu]\\nlist_mems = [sun6c52_mem, SUN6C57_mem]\\n\\nincidencias = CMS_incidencias[CMS_incidencias['SERVIDOR']=='sun6c52'].copy()\\nincidencias['value'] = 1000\\n\""
      ]
     },
     "execution_count": 42,
     "metadata": {},
     "output_type": "execute_result"
    }
   ],
   "source": [
    "\"\"\"\n",
    "names_servidores = ['sun6c52', 'SUN6C57']\n",
    "list_cpus = [sun6c52_cpu, SUN6C57_cpu]\n",
    "list_mems = [sun6c52_mem, SUN6C57_mem]\n",
    "\n",
    "incidencias = CMS_incidencias[CMS_incidencias['SERVIDOR']=='sun6c52'].copy()\n",
    "incidencias['value'] = 1000\n",
    "\"\"\""
   ]
  },
  {
   "cell_type": "markdown",
   "metadata": {},
   "source": [
    "### MCSS"
   ]
  },
  {
   "cell_type": "code",
   "execution_count": 184,
   "metadata": {},
   "outputs": [],
   "source": [
    "prd03slr_cpu = mcss_servidores_group.get_group(('prd03slr','QOS_CPU_USAGE','prd03slr')).copy()\n",
    "prd03slr_mem = mcss_servidores_group.get_group(('prd03slr','QOS_MEMORY_PERC_USAGE','prd03slr')).copy()\n",
    "\n",
    "prd20mcs_cpu = mcss_servidores_group.get_group(('prd20mcs','QOS_CPU_USAGE','prd20mcs')).copy()\n",
    "prd20mcs_mem = mcss_servidores_group.get_group(('prd20mcs','QOS_MEMORY_PERC_USAGE','prd20mcs')).copy()"
   ]
  },
  {
   "cell_type": "code",
   "execution_count": 185,
   "metadata": {},
   "outputs": [],
   "source": [
    "names_servidores = ['prd03slr', 'prd20mcs']\n",
    "list_cpus = [prd03slr_cpu, prd20mcs_cpu]\n",
    "list_mems = [prd03slr_mem, prd20mcs_mem]\n",
    "\n",
    "incidencias = mcss_incidencias.copy()\n",
    "incidencias['value'] = 1000"
   ]
  },
  {
   "cell_type": "markdown",
   "metadata": {},
   "source": [
    "# Anomalias"
   ]
  },
  {
   "cell_type": "code",
   "execution_count": 44,
   "metadata": {},
   "outputs": [
    {
     "name": "stdout",
     "output_type": "stream",
     "text": [
      "Collecting adtk\n",
      "\u001b[?25l  Downloading https://files.pythonhosted.org/packages/b4/4b/6b5ce04900b44d91a09c21b439593dd95b7a34dd5abcb19bc4c1c4bfd083/adtk-0.5.2-py3-none-any.whl (54kB)\n",
      "\u001b[K     |████████████████████████████████| 61kB 210kB/s eta 0:00:01\n",
      "\u001b[?25hRequirement already satisfied: packaging>=17.0 in /home/villacorta/anaconda3/lib/python3.7/site-packages (from adtk) (19.2)\n",
      "Requirement already satisfied: pandas>=0.23 in /home/villacorta/anaconda3/lib/python3.7/site-packages (from adtk) (0.25.1)\n",
      "Requirement already satisfied: statsmodels>=0.9 in /home/villacorta/anaconda3/lib/python3.7/site-packages (from adtk) (0.10.1)\n",
      "Requirement already satisfied: matplotlib>=3.0 in /home/villacorta/anaconda3/lib/python3.7/site-packages (from adtk) (3.1.1)\n",
      "Requirement already satisfied: scikit-learn>=0.20 in /home/villacorta/anaconda3/lib/python3.7/site-packages (from adtk) (0.21.3)\n",
      "Requirement already satisfied: numpy>=1.15 in /home/villacorta/anaconda3/lib/python3.7/site-packages (from adtk) (1.17.2)\n",
      "Collecting tabulate>=0.8 (from adtk)\n",
      "\u001b[?25l  Downloading https://files.pythonhosted.org/packages/c4/41/523f6a05e6dc3329a5660f6a81254c6cd87e5cfb5b7482bae3391d86ec3a/tabulate-0.8.6.tar.gz (45kB)\n",
      "\u001b[K     |████████████████████████████████| 51kB 1.2MB/s eta 0:00:01\n",
      "\u001b[?25hRequirement already satisfied: six in /home/villacorta/anaconda3/lib/python3.7/site-packages (from packaging>=17.0->adtk) (1.12.0)\n",
      "Requirement already satisfied: pyparsing>=2.0.2 in /home/villacorta/anaconda3/lib/python3.7/site-packages (from packaging>=17.0->adtk) (2.4.2)\n",
      "Requirement already satisfied: pytz>=2017.2 in /home/villacorta/anaconda3/lib/python3.7/site-packages (from pandas>=0.23->adtk) (2019.3)\n",
      "Requirement already satisfied: python-dateutil>=2.6.1 in /home/villacorta/anaconda3/lib/python3.7/site-packages (from pandas>=0.23->adtk) (2.8.0)\n",
      "Requirement already satisfied: patsy>=0.4.0 in /home/villacorta/anaconda3/lib/python3.7/site-packages (from statsmodels>=0.9->adtk) (0.5.1)\n",
      "Requirement already satisfied: scipy>=0.18 in /home/villacorta/anaconda3/lib/python3.7/site-packages (from statsmodels>=0.9->adtk) (1.3.1)\n",
      "Requirement already satisfied: cycler>=0.10 in /home/villacorta/anaconda3/lib/python3.7/site-packages (from matplotlib>=3.0->adtk) (0.10.0)\n",
      "Requirement already satisfied: kiwisolver>=1.0.1 in /home/villacorta/anaconda3/lib/python3.7/site-packages (from matplotlib>=3.0->adtk) (1.1.0)\n",
      "Requirement already satisfied: joblib>=0.11 in /home/villacorta/anaconda3/lib/python3.7/site-packages (from scikit-learn>=0.20->adtk) (0.13.2)\n",
      "Requirement already satisfied: setuptools in /home/villacorta/anaconda3/lib/python3.7/site-packages (from kiwisolver>=1.0.1->matplotlib>=3.0->adtk) (41.4.0)\n",
      "Building wheels for collected packages: tabulate\n",
      "  Building wheel for tabulate (setup.py) ... \u001b[?25ldone\n",
      "\u001b[?25h  Created wheel for tabulate: filename=tabulate-0.8.6-cp37-none-any.whl size=23274 sha256=0349696afa71beec7e04d80bb8942f388806a33907591feb684b1b000b3be119\n",
      "  Stored in directory: /home/villacorta/.cache/pip/wheels/9c/9b/f4/eb243fdb89676ec00588e8c54bb54360724c06e7fafe95278e\n",
      "Successfully built tabulate\n",
      "Installing collected packages: tabulate, adtk\n",
      "Successfully installed adtk-0.5.2 tabulate-0.8.6\n",
      "Note: you may need to restart the kernel to use updated packages.\n"
     ]
    }
   ],
   "source": [
    "pip install adtk"
   ]
  },
  {
   "cell_type": "code",
   "execution_count": 43,
   "metadata": {},
   "outputs": [
    {
     "ename": "ModuleNotFoundError",
     "evalue": "No module named 'adtk'",
     "output_type": "error",
     "traceback": [
      "\u001b[0;31m---------------------------------------------------\u001b[0m",
      "\u001b[0;31mModuleNotFoundError\u001b[0mTraceback (most recent call last)",
      "\u001b[0;32m<ipython-input-43-5b8d42f42cc0>\u001b[0m in \u001b[0;36m<module>\u001b[0;34m\u001b[0m\n\u001b[0;32m----> 1\u001b[0;31m \u001b[0;32mfrom\u001b[0m \u001b[0madtk\u001b[0m\u001b[0;34m.\u001b[0m\u001b[0mdetector\u001b[0m \u001b[0;32mimport\u001b[0m \u001b[0mLevelShiftAD\u001b[0m\u001b[0;34m\u001b[0m\u001b[0;34m\u001b[0m\u001b[0m\n\u001b[0m\u001b[1;32m      2\u001b[0m \u001b[0;32mfrom\u001b[0m \u001b[0madtk\u001b[0m\u001b[0;34m.\u001b[0m\u001b[0mvisualization\u001b[0m \u001b[0;32mimport\u001b[0m \u001b[0mplot\u001b[0m\u001b[0;34m\u001b[0m\u001b[0;34m\u001b[0m\u001b[0m\n",
      "\u001b[0;31mModuleNotFoundError\u001b[0m: No module named 'adtk'"
     ]
    }
   ],
   "source": [
    "from adtk.detector import LevelShiftAD\n",
    "from adtk.visualization import plot"
   ]
  },
  {
   "cell_type": "code",
   "execution_count": 187,
   "metadata": {},
   "outputs": [],
   "source": [
    "level_shift_ad = LevelShiftAD(c=6.0, side='both', window=5)\n",
    "anomalies_cpus = []\n",
    "anomalies_mems = []\n",
    "for _server in list_cpus:\n",
    "    anomalies = level_shift_ad.fit_detect(_server['value'])\n",
    "    anomalies_cpus.append(anomalies)\n",
    "    \n",
    "for _server in list_mems:\n",
    "    anomalies = level_shift_ad.fit_detect(_server['value'])\n",
    "    anomalies_mems.append(anomalies)"
   ]
  },
  {
   "cell_type": "code",
   "execution_count": 188,
   "metadata": {},
   "outputs": [],
   "source": [
    "level_shift_ad = LevelShiftAD(c=6.0, side='both', window=5)\n",
    "anomalies = level_shift_ad.fit_detect(list_cpus[0]['value'])"
   ]
  },
  {
   "cell_type": "code",
   "execution_count": 189,
   "metadata": {},
   "outputs": [],
   "source": [
    "%matplotlib qt\n",
    "plot(list_cpus[0]['value'], anomaly_pred=anomalies, ts_linewidth=1, ts_markersize=3, ap_color='red');"
   ]
  },
  {
   "cell_type": "code",
   "execution_count": null,
   "metadata": {},
   "outputs": [],
   "source": []
  },
  {
   "cell_type": "code",
   "execution_count": null,
   "metadata": {},
   "outputs": [],
   "source": []
  },
  {
   "cell_type": "markdown",
   "metadata": {},
   "source": [
    "# Dashboard"
   ]
  },
  {
   "cell_type": "code",
   "execution_count": 190,
   "metadata": {},
   "outputs": [],
   "source": [
    "colors = [(150, 150, 150), (8, 154, 255),(0, 253, 255),(231, 217, 0),(0, 0, 190),(0, 184, 113), (98, 24, 91)]\n",
    "colors = [tuple(reversed(i)) for i in colors]\n",
    "\n",
    "start_cpu = 0\n",
    "start_mem = 0\n",
    "start_anom = 0\n",
    "STEP = 100\n",
    "index_cpu = STEP\n",
    "index_mem = STEP\n",
    "index_anom = STEP"
   ]
  },
  {
   "cell_type": "code",
   "execution_count": 191,
   "metadata": {},
   "outputs": [],
   "source": [
    "app = dash.Dash(__name__)\n",
    "app.layout = html.Div([html.Div([dcc.Graph(id='cpu', style={'width': '75%', 'display': 'inline-block'} ),\n",
    "                                 dcc.Interval(id='update-cpu',\n",
    "                                              interval=1*1000)],\n",
    "                                style={'float': 'left', 'width': '100%', 'text-align': 'center'},),\n",
    "                       \n",
    "                       html.Div([dcc.Graph(id='mem', style={'width': '75%', 'display': 'inline-block'} ),\n",
    "                                 dcc.Interval(id='update-mem',\n",
    "                                              interval=1*1000)],\n",
    "                                style={'float': 'left', 'width': '100%', 'text-align': 'center'},),\n",
    "                       \n",
    "                       html.Div([dcc.Graph(id='anomalias', style={'width': '75%', 'display': 'inline-block'} ),\n",
    "                                 dcc.Interval(id='update-anomalias',\n",
    "                                              interval=1*1000)],\n",
    "                                style={'float': 'left', 'width': '100%', 'text-align': 'center'},),\n",
    "                       \n",
    "                       html.Div([dcc.Graph(id='medidor', style={'width': '75%', 'display': 'inline-block'} ),\n",
    "                                 dcc.Interval(id='update-medidor',\n",
    "                                              interval=1*1000)],\n",
    "                                style={'float': 'left', 'width': '50%', 'text-align': 'center'},),\n",
    "                       \n",
    "                      ])"
   ]
  },
  {
   "cell_type": "code",
   "execution_count": 192,
   "metadata": {},
   "outputs": [],
   "source": [
    "@app.callback(Output('cpu', 'figure'),\n",
    "              [Input('update-cpu', 'interval')])\n",
    "def update_cpu():\n",
    "    global index_cpu\n",
    "    global start_cpu\n",
    "    try:\n",
    "        # we show 4 day approx\n",
    "        if index_cpu>500: start_cpu += STEP\n",
    "        \n",
    "        data_list = []\n",
    "        \n",
    "        for i,_server in enumerate(list_cpus):\n",
    "            #X = cpu_s1.index[0:index_cpu]\n",
    "            X = _server.index[start_cpu:index_cpu]\n",
    "            Y = _server['value'].values[start_cpu:index_cpu]\n",
    "            data = plotly.graph_objs.Scatter(x=X, y=Y, showlegend=True,\n",
    "                                             name=names_servidores[i], mode='lines',\n",
    "                                             line=dict(color='rgb({},{},{})'.format(*colors[i])))\n",
    "            data_list.append(data)\n",
    "                   \n",
    "        index_cpu += STEP\n",
    "        \n",
    "        time_min = X.min()\n",
    "        time_max = X.max()\n",
    "        \n",
    "        return {'data': data_list, 'layout' : dict(xaxis={'title': 'tiempo','range':[time_min, time_max]},\n",
    "                                                   yaxis={'title': 'valor', 'range': [0, 100]},\n",
    "                                                   legend={'x': 0, 'y': 1},\n",
    "                                                   title='Monitoreo de CPU',\n",
    "                                                    )}\n",
    "    except Exception as e:\n",
    "        with open('errors.txt','a') as f:\n",
    "            f.write(str(e))\n",
    "\n",
    "\n",
    "@app.callback(Output('mem', 'figure'),\n",
    "              [Input('update-mem', 'interval')])\n",
    "def update_mem():\n",
    "    global index_mem\n",
    "    global start_mem\n",
    "    try:\n",
    "        # we show 4 day approx\n",
    "        if index_mem>500: start_mem += STEP\n",
    "            \n",
    "        data_list = []\n",
    "        \n",
    "        for i,_server in enumerate(list_mems):\n",
    "            X = _server.index[start_mem:index_mem]\n",
    "            Y = _server['value'].values[start_mem:index_mem]\n",
    "            data = plotly.graph_objs.Scatter(x=X, y=Y, showlegend=True,\n",
    "                                             name=names_servidores[i], mode='lines',\n",
    "                                             line=dict(color='rgb({},{},{})'.format(*colors[i])))\n",
    "            data_list.append(data)\n",
    "                    \n",
    "        index_mem += STEP\n",
    "        \n",
    "        time_min = X.min()\n",
    "        time_max = X.max()\n",
    "        \n",
    "        \n",
    "        return {'data': data_list,'layout': dict(xaxis={'title': 'tiempo','range':[time_min, time_max]},\n",
    "                                                   yaxis={'title': 'valor', 'range': [0, 100]},\n",
    "                                                   legend={'x': 0, 'y': 1},\n",
    "                                                   title='Monitoreo de Memoria',\n",
    "                                                    )}\n",
    "\n",
    "    except Exception as e:\n",
    "        with open('errors.txt','a') as f:\n",
    "            f.write(str(e))\n",
    "\n",
    "\n",
    "@app.callback(Output('anomalias', 'figure'),\n",
    "              [Input('update-anomalias', 'interval')])\n",
    "def update_anomalias():\n",
    "    global index_anom\n",
    "    global start_anom\n",
    "    try:\n",
    "        # we show 4 day approx\n",
    "        if index_anom>500: start_anom += STEP\n",
    "            \n",
    "        X = anomalies_cpus[0].index[start_anom:index_anom]\n",
    "        data_list = []\n",
    "        \n",
    "        for _server in anomalies_cpus:\n",
    "            data = dict(\n",
    "                x=_server.index[start_anom:index_anom],\n",
    "                #y=incidencias['value'],\n",
    "                y=_server.values[start_anom:index_anom],\n",
    "                #text=df_by_continent['country'],\n",
    "                showlegend=True,\n",
    "                mode='markers',\n",
    "                opacity=0.7,\n",
    "                marker={\n",
    "                    'size': 15,\n",
    "                    'line': {'width': 0.5, 'color': 'white'}\n",
    "                },\n",
    "                name='anomalias cpu'\n",
    "                )\n",
    "            \n",
    "            data_list.append(data)\n",
    "            \n",
    "        for _server in anomalies_mems:\n",
    "            data = dict(\n",
    "                x=_server.index[start_anom:index_anom],\n",
    "                y=_server.values[start_anom:index_anom],\n",
    "                showlegend=True,\n",
    "                mode='markers',\n",
    "                opacity=0.7,\n",
    "                marker={\n",
    "                    'size': 15,\n",
    "                    'line': {'width': 0.5, 'color': 'white'}\n",
    "                },\n",
    "                name='anomalias mem'\n",
    "                )\n",
    "            \n",
    "            data_list.append(data)\n",
    "            \n",
    "        '''\n",
    "        data = dict(\n",
    "            x=anomalies_mems[1].index[0:index_anom],\n",
    "            #y=incidencias['value'],\n",
    "            y=anomalies_mems[1].values[0:index_anom],\n",
    "            #text=df_by_continent['country'],\n",
    "            showlegend=True,\n",
    "            mode='markers',\n",
    "            opacity=0.7,\n",
    "            marker={\n",
    "                'size': 15,\n",
    "                'line': {'width': 0.5, 'color': 'white'}\n",
    "            },\n",
    "            name='anomalias'\n",
    "        )\n",
    "        \n",
    "        data_list.append(data)\n",
    "        '''\n",
    "        data = plotly.graph_objs.Bar(\n",
    "                x = incidencias.index,\n",
    "                y = incidencias['value'],\n",
    "                textposition = 'outside')\n",
    "        data_list.append(data)\n",
    "        \n",
    "        index_anom += STEP\n",
    "\n",
    "        time_min = X.min()\n",
    "        time_max = X.max()\n",
    "        \n",
    "        return {'data': data_list,'layout': dict(xaxis={'title': 'tiempo','range':[time_min, time_max]},\n",
    "                                                   yaxis={'title': 'Detección', 'range': [0.5, 1.5]},\n",
    "                                                   legend={'x': 0, 'y': 1},\n",
    "                                                   title='Anomalias',\n",
    "                                                    )}\n",
    "\n",
    "    except Exception as e:\n",
    "        with open('errors.txt','a') as f:\n",
    "            f.write(str(e))\n",
    "            \n",
    "@app.callback(Output('medidor', 'figure'),\n",
    "              [Input('update-medidor', 'interval')])\n",
    "def update_medidor():\n",
    "    try:\n",
    "        labels = ['ninguno', 'bajo','medio','alto']\n",
    "        Y = [0,0,1,0]\n",
    "        data = {'x': labels,'y': Y, 'type': 'bar', 'name': 'SF'}\n",
    "        data = plotly.graph_objs.Indicator(\n",
    "                        mode = \"gauge+number\",\n",
    "                        value = 270,\n",
    "                        domain = {'x': [0, 1], 'y': [0, 1]},\n",
    "                        title = {'text': \"Speed\"})\n",
    "        return {'data':[data]}\n",
    "        #return {'data': [data], 'layout': {'title': 'Medidor',\n",
    "         #                                  'xaxis': {'title':'nivel', \n",
    "          #                                           'zeroline': False,\n",
    "           #                                          'showgrid': False},\n",
    "            #                               \n",
    "             #                       }\n",
    "              # }\n",
    "        \n",
    "        '''\n",
    "        data = plotly.graph_objs.Bar(\n",
    "                x = Labels,\n",
    "                y = Y,\n",
    "                textposition = 'outside'\n",
    "                )\n",
    "        \n",
    "        data = dict(\n",
    "            x=incidencias.index,\n",
    "            y=incidencias['value'],\n",
    "            #text=df_by_continent['country'],\n",
    "            mode='markers',\n",
    "            opacity=0.7,\n",
    "            marker={\n",
    "                'size': 15,\n",
    "                'line': {'width': 0.5, 'color': 'white'}\n",
    "            },\n",
    "            name='anomalias'\n",
    "        )\n",
    "           \n",
    "        return {'data': [data],'layout': dict(xaxis={'title': 'nivel de anomalías'},\n",
    "                                                   yaxis={'range': [0, 10]},\n",
    "                                                   legend={'x': 0, 'y': 1},\n",
    "                                                   title='Anomalias',\n",
    "                                                    )}\n",
    "        '''\n",
    "    except Exception as e:\n",
    "        with open('errors.txt','a') as f:\n",
    "            f.write(str(e))"
   ]
  },
  {
   "cell_type": "code",
   "execution_count": 193,
   "metadata": {},
   "outputs": [
    {
     "name": "stdout",
     "output_type": "stream",
     "text": [
      " * Serving Flask app \"__main__\" (lazy loading)\n",
      " * Environment: production\n",
      "   WARNING: This is a development server. Do not use it in a production deployment.\n",
      "   Use a production WSGI server instead.\n",
      " * Debug mode: off\n"
     ]
    },
    {
     "name": "stderr",
     "output_type": "stream",
     "text": [
      " * Running on http://localhost:8050/ (Press CTRL+C to quit)\n",
      "127.0.0.1 - - [05/Feb/2020 13:59:03] \"\u001b[37mPOST /_dash-update-component HTTP/1.1\u001b[0m\" 200 -\n",
      "127.0.0.1 - - [05/Feb/2020 13:59:03] \"\u001b[37mPOST /_dash-update-component HTTP/1.1\u001b[0m\" 200 -\n",
      "127.0.0.1 - - [05/Feb/2020 13:59:04] \"\u001b[37mPOST /_dash-update-component HTTP/1.1\u001b[0m\" 200 -\n",
      "127.0.0.1 - - [05/Feb/2020 13:59:05] \"\u001b[37mPOST /_dash-update-component HTTP/1.1\u001b[0m\" 200 -\n",
      "127.0.0.1 - - [05/Feb/2020 13:59:05] \"\u001b[37mPOST /_dash-update-component HTTP/1.1\u001b[0m\" 200 -\n",
      "127.0.0.1 - - [05/Feb/2020 13:59:05] \"\u001b[37mPOST /_dash-update-component HTTP/1.1\u001b[0m\" 200 -\n",
      "127.0.0.1 - - [05/Feb/2020 13:59:05] \"\u001b[37mPOST /_dash-update-component HTTP/1.1\u001b[0m\" 200 -\n",
      "127.0.0.1 - - [05/Feb/2020 13:59:05] \"\u001b[37mPOST /_dash-update-component HTTP/1.1\u001b[0m\" 200 -\n",
      "127.0.0.1 - - [05/Feb/2020 13:59:05] \"\u001b[37mGET / HTTP/1.1\u001b[0m\" 200 -\n",
      "127.0.0.1 - - [05/Feb/2020 13:59:06] \"\u001b[37mGET /_dash-layout HTTP/1.1\u001b[0m\" 200 -\n",
      "127.0.0.1 - - [05/Feb/2020 13:59:06] \"\u001b[37mGET /_dash-dependencies HTTP/1.1\u001b[0m\" 200 -\n",
      "127.0.0.1 - - [05/Feb/2020 13:59:06] \"\u001b[37mGET /_favicon.ico HTTP/1.1\u001b[0m\" 200 -\n",
      "127.0.0.1 - - [05/Feb/2020 13:59:07] \"\u001b[37mPOST /_dash-update-component HTTP/1.1\u001b[0m\" 200 -\n",
      "127.0.0.1 - - [05/Feb/2020 13:59:07] \"\u001b[37mPOST /_dash-update-component HTTP/1.1\u001b[0m\" 200 -\n",
      "127.0.0.1 - - [05/Feb/2020 13:59:07] \"\u001b[37mPOST /_dash-update-component HTTP/1.1\u001b[0m\" 200 -\n",
      "127.0.0.1 - - [05/Feb/2020 13:59:07] \"\u001b[37mPOST /_dash-update-component HTTP/1.1\u001b[0m\" 200 -\n",
      "127.0.0.1 - - [05/Feb/2020 13:59:08] \"\u001b[37mPOST /_dash-update-component HTTP/1.1\u001b[0m\" 200 -\n",
      "127.0.0.1 - - [05/Feb/2020 13:59:08] \"\u001b[37mPOST /_dash-update-component HTTP/1.1\u001b[0m\" 200 -\n",
      "127.0.0.1 - - [05/Feb/2020 13:59:08] \"\u001b[37mPOST /_dash-update-component HTTP/1.1\u001b[0m\" 200 -\n",
      "127.0.0.1 - - [05/Feb/2020 13:59:08] \"\u001b[37mPOST /_dash-update-component HTTP/1.1\u001b[0m\" 200 -\n",
      "127.0.0.1 - - [05/Feb/2020 13:59:09] \"\u001b[37mPOST /_dash-update-component HTTP/1.1\u001b[0m\" 200 -\n",
      "127.0.0.1 - - [05/Feb/2020 13:59:09] \"\u001b[37mPOST /_dash-update-component HTTP/1.1\u001b[0m\" 200 -\n",
      "127.0.0.1 - - [05/Feb/2020 13:59:09] \"\u001b[37mPOST /_dash-update-component HTTP/1.1\u001b[0m\" 200 -\n",
      "127.0.0.1 - - [05/Feb/2020 13:59:09] \"\u001b[37mPOST /_dash-update-component HTTP/1.1\u001b[0m\" 200 -\n",
      "127.0.0.1 - - [05/Feb/2020 13:59:10] \"\u001b[37mPOST /_dash-update-component HTTP/1.1\u001b[0m\" 200 -\n",
      "127.0.0.1 - - [05/Feb/2020 13:59:10] \"\u001b[37mPOST /_dash-update-component HTTP/1.1\u001b[0m\" 200 -\n",
      "127.0.0.1 - - [05/Feb/2020 13:59:10] \"\u001b[37mPOST /_dash-update-component HTTP/1.1\u001b[0m\" 200 -\n",
      "127.0.0.1 - - [05/Feb/2020 13:59:10] \"\u001b[37mPOST /_dash-update-component HTTP/1.1\u001b[0m\" 200 -\n",
      "127.0.0.1 - - [05/Feb/2020 13:59:11] \"\u001b[37mPOST /_dash-update-component HTTP/1.1\u001b[0m\" 200 -\n",
      "127.0.0.1 - - [05/Feb/2020 13:59:11] \"\u001b[37mPOST /_dash-update-component HTTP/1.1\u001b[0m\" 200 -\n",
      "127.0.0.1 - - [05/Feb/2020 13:59:11] \"\u001b[37mPOST /_dash-update-component HTTP/1.1\u001b[0m\" 200 -\n",
      "127.0.0.1 - - [05/Feb/2020 13:59:11] \"\u001b[37mPOST /_dash-update-component HTTP/1.1\u001b[0m\" 200 -\n",
      "127.0.0.1 - - [05/Feb/2020 13:59:12] \"\u001b[37mPOST /_dash-update-component HTTP/1.1\u001b[0m\" 200 -\n",
      "127.0.0.1 - - [05/Feb/2020 13:59:12] \"\u001b[37mPOST /_dash-update-component HTTP/1.1\u001b[0m\" 200 -\n",
      "127.0.0.1 - - [05/Feb/2020 13:59:12] \"\u001b[37mPOST /_dash-update-component HTTP/1.1\u001b[0m\" 200 -\n",
      "127.0.0.1 - - [05/Feb/2020 13:59:12] \"\u001b[37mPOST /_dash-update-component HTTP/1.1\u001b[0m\" 200 -\n",
      "127.0.0.1 - - [05/Feb/2020 13:59:13] \"\u001b[37mPOST /_dash-update-component HTTP/1.1\u001b[0m\" 200 -\n",
      "127.0.0.1 - - [05/Feb/2020 13:59:13] \"\u001b[37mPOST /_dash-update-component HTTP/1.1\u001b[0m\" 200 -\n",
      "127.0.0.1 - - [05/Feb/2020 13:59:13] \"\u001b[37mPOST /_dash-update-component HTTP/1.1\u001b[0m\" 200 -\n",
      "127.0.0.1 - - [05/Feb/2020 13:59:13] \"\u001b[37mPOST /_dash-update-component HTTP/1.1\u001b[0m\" 200 -\n",
      "127.0.0.1 - - [05/Feb/2020 13:59:14] \"\u001b[37mPOST /_dash-update-component HTTP/1.1\u001b[0m\" 200 -\n",
      "127.0.0.1 - - [05/Feb/2020 13:59:14] \"\u001b[37mPOST /_dash-update-component HTTP/1.1\u001b[0m\" 200 -\n",
      "127.0.0.1 - - [05/Feb/2020 13:59:14] \"\u001b[37mPOST /_dash-update-component HTTP/1.1\u001b[0m\" 200 -\n",
      "127.0.0.1 - - [05/Feb/2020 13:59:14] \"\u001b[37mPOST /_dash-update-component HTTP/1.1\u001b[0m\" 200 -\n",
      "127.0.0.1 - - [05/Feb/2020 13:59:15] \"\u001b[37mPOST /_dash-update-component HTTP/1.1\u001b[0m\" 200 -\n",
      "127.0.0.1 - - [05/Feb/2020 13:59:15] \"\u001b[37mPOST /_dash-update-component HTTP/1.1\u001b[0m\" 200 -\n",
      "127.0.0.1 - - [05/Feb/2020 13:59:15] \"\u001b[37mPOST /_dash-update-component HTTP/1.1\u001b[0m\" 200 -\n",
      "127.0.0.1 - - [05/Feb/2020 13:59:15] \"\u001b[37mPOST /_dash-update-component HTTP/1.1\u001b[0m\" 200 -\n",
      "127.0.0.1 - - [05/Feb/2020 13:59:16] \"\u001b[37mPOST /_dash-update-component HTTP/1.1\u001b[0m\" 200 -\n",
      "127.0.0.1 - - [05/Feb/2020 13:59:16] \"\u001b[37mPOST /_dash-update-component HTTP/1.1\u001b[0m\" 200 -\n",
      "127.0.0.1 - - [05/Feb/2020 13:59:16] \"\u001b[37mPOST /_dash-update-component HTTP/1.1\u001b[0m\" 200 -\n",
      "127.0.0.1 - - [05/Feb/2020 13:59:16] \"\u001b[37mPOST /_dash-update-component HTTP/1.1\u001b[0m\" 200 -\n",
      "127.0.0.1 - - [05/Feb/2020 13:59:17] \"\u001b[37mPOST /_dash-update-component HTTP/1.1\u001b[0m\" 200 -\n",
      "127.0.0.1 - - [05/Feb/2020 13:59:17] \"\u001b[37mPOST /_dash-update-component HTTP/1.1\u001b[0m\" 200 -\n",
      "127.0.0.1 - - [05/Feb/2020 13:59:17] \"\u001b[37mPOST /_dash-update-component HTTP/1.1\u001b[0m\" 200 -\n",
      "127.0.0.1 - - [05/Feb/2020 13:59:17] \"\u001b[37mPOST /_dash-update-component HTTP/1.1\u001b[0m\" 200 -\n",
      "127.0.0.1 - - [05/Feb/2020 13:59:18] \"\u001b[37mPOST /_dash-update-component HTTP/1.1\u001b[0m\" 200 -\n",
      "127.0.0.1 - - [05/Feb/2020 13:59:18] \"\u001b[37mPOST /_dash-update-component HTTP/1.1\u001b[0m\" 200 -\n",
      "127.0.0.1 - - [05/Feb/2020 13:59:18] \"\u001b[37mPOST /_dash-update-component HTTP/1.1\u001b[0m\" 200 -\n",
      "127.0.0.1 - - [05/Feb/2020 13:59:18] \"\u001b[37mPOST /_dash-update-component HTTP/1.1\u001b[0m\" 200 -\n",
      "127.0.0.1 - - [05/Feb/2020 13:59:19] \"\u001b[37mPOST /_dash-update-component HTTP/1.1\u001b[0m\" 200 -\n",
      "127.0.0.1 - - [05/Feb/2020 13:59:19] \"\u001b[37mPOST /_dash-update-component HTTP/1.1\u001b[0m\" 200 -\n",
      "127.0.0.1 - - [05/Feb/2020 13:59:19] \"\u001b[37mPOST /_dash-update-component HTTP/1.1\u001b[0m\" 200 -\n",
      "127.0.0.1 - - [05/Feb/2020 13:59:19] \"\u001b[37mPOST /_dash-update-component HTTP/1.1\u001b[0m\" 200 -\n",
      "127.0.0.1 - - [05/Feb/2020 13:59:20] \"\u001b[37mPOST /_dash-update-component HTTP/1.1\u001b[0m\" 200 -\n",
      "127.0.0.1 - - [05/Feb/2020 13:59:20] \"\u001b[37mPOST /_dash-update-component HTTP/1.1\u001b[0m\" 200 -\n",
      "127.0.0.1 - - [05/Feb/2020 13:59:20] \"\u001b[37mPOST /_dash-update-component HTTP/1.1\u001b[0m\" 200 -\n",
      "127.0.0.1 - - [05/Feb/2020 13:59:20] \"\u001b[37mPOST /_dash-update-component HTTP/1.1\u001b[0m\" 200 -\n",
      "127.0.0.1 - - [05/Feb/2020 13:59:21] \"\u001b[37mPOST /_dash-update-component HTTP/1.1\u001b[0m\" 200 -\n",
      "127.0.0.1 - - [05/Feb/2020 13:59:21] \"\u001b[37mPOST /_dash-update-component HTTP/1.1\u001b[0m\" 200 -\n",
      "127.0.0.1 - - [05/Feb/2020 13:59:21] \"\u001b[37mPOST /_dash-update-component HTTP/1.1\u001b[0m\" 200 -\n",
      "127.0.0.1 - - [05/Feb/2020 13:59:21] \"\u001b[37mPOST /_dash-update-component HTTP/1.1\u001b[0m\" 200 -\n",
      "127.0.0.1 - - [05/Feb/2020 13:59:22] \"\u001b[37mPOST /_dash-update-component HTTP/1.1\u001b[0m\" 200 -\n",
      "127.0.0.1 - - [05/Feb/2020 13:59:22] \"\u001b[37mPOST /_dash-update-component HTTP/1.1\u001b[0m\" 200 -\n",
      "127.0.0.1 - - [05/Feb/2020 13:59:22] \"\u001b[37mPOST /_dash-update-component HTTP/1.1\u001b[0m\" 200 -\n",
      "127.0.0.1 - - [05/Feb/2020 13:59:22] \"\u001b[37mPOST /_dash-update-component HTTP/1.1\u001b[0m\" 200 -\n",
      "127.0.0.1 - - [05/Feb/2020 13:59:24] \"\u001b[37mPOST /_dash-update-component HTTP/1.1\u001b[0m\" 200 -\n",
      "127.0.0.1 - - [05/Feb/2020 13:59:24] \"\u001b[37mPOST /_dash-update-component HTTP/1.1\u001b[0m\" 200 -\n",
      "127.0.0.1 - - [05/Feb/2020 13:59:24] \"\u001b[37mPOST /_dash-update-component HTTP/1.1\u001b[0m\" 200 -\n",
      "127.0.0.1 - - [05/Feb/2020 13:59:24] \"\u001b[37mPOST /_dash-update-component HTTP/1.1\u001b[0m\" 200 -\n",
      "127.0.0.1 - - [05/Feb/2020 13:59:24] \"\u001b[37mPOST /_dash-update-component HTTP/1.1\u001b[0m\" 200 -\n",
      "127.0.0.1 - - [05/Feb/2020 13:59:25] \"\u001b[37mPOST /_dash-update-component HTTP/1.1\u001b[0m\" 200 -\n",
      "127.0.0.1 - - [05/Feb/2020 13:59:25] \"\u001b[37mPOST /_dash-update-component HTTP/1.1\u001b[0m\" 200 -\n",
      "127.0.0.1 - - [05/Feb/2020 13:59:25] \"\u001b[37mPOST /_dash-update-component HTTP/1.1\u001b[0m\" 200 -\n",
      "127.0.0.1 - - [05/Feb/2020 13:59:26] \"\u001b[37mPOST /_dash-update-component HTTP/1.1\u001b[0m\" 200 -\n",
      "127.0.0.1 - - [05/Feb/2020 13:59:26] \"\u001b[37mPOST /_dash-update-component HTTP/1.1\u001b[0m\" 200 -\n",
      "127.0.0.1 - - [05/Feb/2020 13:59:26] \"\u001b[37mPOST /_dash-update-component HTTP/1.1\u001b[0m\" 200 -\n",
      "127.0.0.1 - - [05/Feb/2020 13:59:26] \"\u001b[37mPOST /_dash-update-component HTTP/1.1\u001b[0m\" 200 -\n",
      "127.0.0.1 - - [05/Feb/2020 13:59:26] \"\u001b[37mPOST /_dash-update-component HTTP/1.1\u001b[0m\" 200 -\n"
     ]
    }
   ],
   "source": [
    "app.scripts.config.serve_locally = True\n",
    "app.css.config.serve_locally = True\n",
    "app.run_server(host='localhost')"
   ]
  },
  {
   "cell_type": "code",
   "execution_count": null,
   "metadata": {},
   "outputs": [],
   "source": []
  },
  {
   "cell_type": "code",
   "execution_count": null,
   "metadata": {},
   "outputs": [],
   "source": []
  },
  {
   "cell_type": "code",
   "execution_count": null,
   "metadata": {},
   "outputs": [],
   "source": []
  },
  {
   "cell_type": "code",
   "execution_count": null,
   "metadata": {},
   "outputs": [],
   "source": []
  }
 ],
 "metadata": {
  "kernelspec": {
   "display_name": "Python 3",
   "language": "python",
   "name": "python3"
  },
  "language_info": {
   "codemirror_mode": {
    "name": "ipython",
    "version": 3
   },
   "file_extension": ".py",
   "mimetype": "text/x-python",
   "name": "python",
   "nbconvert_exporter": "python",
   "pygments_lexer": "ipython3",
   "version": "3.7.4"
  }
 },
 "nbformat": 4,
 "nbformat_minor": 4
}
