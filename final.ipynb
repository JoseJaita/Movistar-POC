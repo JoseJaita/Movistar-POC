{
 "cells": [
  {
   "cell_type": "code",
   "execution_count": 7,
   "metadata": {},
   "outputs": [],
   "source": [
    "# Nativos\n",
    "import random as rn\n",
    "import os\n",
    "import sys\n",
    "import gc\n",
    "\n",
    "#calculo\n",
    "import numpy as np\n",
    "import pandas as pd\n",
    "import scipy\n",
    "\n",
    "#grafico\n",
    "import matplotlib.pyplot as plt\n",
    "import seaborn as sns\n",
    "from IPython.display import display\n",
    "%matplotlib inline\n",
    "sns.set(style=\"whitegrid\")\n",
    "\n",
    "#warning ignore future\n",
    "import warnings\n",
    "# warnings.simplefilter(action='ignore', category=FutureWarning)\n",
    "warnings.filterwarnings(\"ignore\")\n",
    "gc.collect()\n",
    "\n",
    "SEED = 29082013\n",
    "os.environ['PYTHONHASHSEED'] = str(SEED)\n",
    "np.random.seed(SEED)\n",
    "rn.seed(SEED)\n",
    "\n",
    "sub_folder = 'data/Aplicativo TRB/'"
   ]
  },
  {
   "cell_type": "code",
   "execution_count": 8,
   "metadata": {},
   "outputs": [],
   "source": [
    "columns_servidores = ['tiempo','servidor','path', 'metrica', 'value', 'muestreo']"
   ]
  },
  {
   "cell_type": "code",
   "execution_count": 16,
   "metadata": {},
   "outputs": [],
   "source": [
    "def read_servidores(csv_name):\n",
    "    data = pd.read_csv(csv_name, sep = ',', header = None)\n",
    "    data.columns = columns_servidores\n",
    "    \n",
    "    data['tiempo'] = pd.to_datetime(data['tiempo'])\n",
    "    data = data.sort_values(by=['tiempo'])\n",
    "\n",
    "    data.set_index('tiempo', inplace=True)\n",
    "    \n",
    "    return data\n",
    "\n",
    "\n",
    "def read_incidencias(excel_name):\n",
    "    data = pd.read_excel(excel_name)\n",
    "    \n",
    "    #data['tiempo'] = data['Fecha'].astype(str) + ' ' + data['HORA INICIO'].astype(str)\n",
    "    \n",
    "    #data['tiempo'] = pd.to_datetime(\n",
    "    #    data['tiempo'],errors='coerce',format='%Y/%m/%d %H:%M:%S'\n",
    "    #)\n",
    "    \n",
    "    #data = data.sort_values(by=['tiempo'])\n",
    "    #data.set_index('tiempo', inplace=True)\n",
    "    \n",
    "    return data"
   ]
  },
  {
   "cell_type": "code",
   "execution_count": 17,
   "metadata": {},
   "outputs": [],
   "source": [
    "servidores = read_servidores(sub_folder+'TRB - Servidores - Colas Demonios - Agosto - Enero.csv')"
   ]
  },
  {
   "cell_type": "code",
   "execution_count": 18,
   "metadata": {},
   "outputs": [],
   "source": [
    "incidencias = read_incidencias(sub_folder+'TRB - Lista de Alertas e Incidencias.xlsx')"
   ]
  },
  {
   "cell_type": "code",
   "execution_count": 19,
   "metadata": {},
   "outputs": [
    {
     "data": {
      "text/html": [
       "<div>\n",
       "<style scoped>\n",
       "    .dataframe tbody tr th:only-of-type {\n",
       "        vertical-align: middle;\n",
       "    }\n",
       "\n",
       "    .dataframe tbody tr th {\n",
       "        vertical-align: top;\n",
       "    }\n",
       "\n",
       "    .dataframe thead th {\n",
       "        text-align: right;\n",
       "    }\n",
       "</style>\n",
       "<table border=\"1\" class=\"dataframe\">\n",
       "  <thead>\n",
       "    <tr style=\"text-align: right;\">\n",
       "      <th></th>\n",
       "      <th>servidor</th>\n",
       "      <th>path</th>\n",
       "      <th>metrica</th>\n",
       "      <th>value</th>\n",
       "      <th>muestreo</th>\n",
       "    </tr>\n",
       "    <tr>\n",
       "      <th>tiempo</th>\n",
       "      <th></th>\n",
       "      <th></th>\n",
       "      <th></th>\n",
       "      <th></th>\n",
       "      <th></th>\n",
       "    </tr>\n",
       "  </thead>\n",
       "  <tbody>\n",
       "    <tr>\n",
       "      <th>2019-08-02 00:00:00</th>\n",
       "      <td>prd01bl</td>\n",
       "      <td>prd01bl</td>\n",
       "      <td>QOS_COMPUTER_UPTIME</td>\n",
       "      <td>93770418.0</td>\n",
       "      <td>60.0</td>\n",
       "    </tr>\n",
       "    <tr>\n",
       "      <th>2019-08-02 00:00:00</th>\n",
       "      <td>caapmvmwlnxv13</td>\n",
       "      <td>caapmvmwlnxv13.lnx.gp.inet</td>\n",
       "      <td>QOS_COMPUTER_UPTIME</td>\n",
       "      <td>73237487.0</td>\n",
       "      <td>60.0</td>\n",
       "    </tr>\n",
       "    <tr>\n",
       "      <th>2019-08-02 00:00:31</th>\n",
       "      <td>prd01bl</td>\n",
       "      <td>AR1DDFEEDBACK</td>\n",
       "      <td>QOS_PROCESS_STATE</td>\n",
       "      <td>1.0</td>\n",
       "      <td>1.0</td>\n",
       "    </tr>\n",
       "  </tbody>\n",
       "</table>\n",
       "</div>"
      ],
      "text/plain": [
       "                           servidor                        path  \\\n",
       "tiempo                                                            \n",
       "2019-08-02 00:00:00         prd01bl                     prd01bl   \n",
       "2019-08-02 00:00:00  caapmvmwlnxv13  caapmvmwlnxv13.lnx.gp.inet   \n",
       "2019-08-02 00:00:31         prd01bl               AR1DDFEEDBACK   \n",
       "\n",
       "                                 metrica       value  muestreo  \n",
       "tiempo                                                          \n",
       "2019-08-02 00:00:00  QOS_COMPUTER_UPTIME  93770418.0      60.0  \n",
       "2019-08-02 00:00:00  QOS_COMPUTER_UPTIME  73237487.0      60.0  \n",
       "2019-08-02 00:00:31    QOS_PROCESS_STATE         1.0       1.0  "
      ]
     },
     "execution_count": 19,
     "metadata": {},
     "output_type": "execute_result"
    }
   ],
   "source": [
    "servidores.head(3)"
   ]
  },
  {
   "cell_type": "code",
   "execution_count": 20,
   "metadata": {},
   "outputs": [
    {
     "data": {
      "text/html": [
       "<div>\n",
       "<style scoped>\n",
       "    .dataframe tbody tr th:only-of-type {\n",
       "        vertical-align: middle;\n",
       "    }\n",
       "\n",
       "    .dataframe tbody tr th {\n",
       "        vertical-align: top;\n",
       "    }\n",
       "\n",
       "    .dataframe thead th {\n",
       "        text-align: right;\n",
       "    }\n",
       "</style>\n",
       "<table border=\"1\" class=\"dataframe\">\n",
       "  <thead>\n",
       "    <tr style=\"text-align: right;\">\n",
       "      <th></th>\n",
       "      <th>ID de la incidencia*+</th>\n",
       "      <th>Apellidos+</th>\n",
       "      <th>Nombre+</th>\n",
       "      <th>Ubicación del cliente</th>\n",
       "      <th>Resumen*</th>\n",
       "      <th>Servicio*+</th>\n",
       "      <th>Prioridad*</th>\n",
       "      <th>Estado*</th>\n",
       "      <th>Grupo asignado*+</th>\n",
       "      <th>Usuario asignado+</th>\n",
       "      <th>...</th>\n",
       "      <th>Tipo de ticket</th>\n",
       "      <th>Ubicación de asistencia del contacto directo</th>\n",
       "      <th>Ubicación del contacto</th>\n",
       "      <th>Urgencia*</th>\n",
       "      <th>Usuario desconocido</th>\n",
       "      <th>VIP</th>\n",
       "      <th>Zona</th>\n",
       "      <th>Zona del contacto directo</th>\n",
       "      <th>Zona horaria del contacto directo</th>\n",
       "      <th>Última modificación por</th>\n",
       "    </tr>\n",
       "  </thead>\n",
       "  <tbody>\n",
       "    <tr>\n",
       "      <th>0</th>\n",
       "      <td>INC000003495219</td>\n",
       "      <td>RAZURI CASTRO</td>\n",
       "      <td>LUZ ANDREA</td>\n",
       "      <td>Site Name por defecto</td>\n",
       "      <td>caapmvmwlnxv13  - ALERTADO</td>\n",
       "      <td>NaN</td>\n",
       "      <td>Baja</td>\n",
       "      <td>Cerrado</td>\n",
       "      <td>Operaciones</td>\n",
       "      <td>EDISON MURILLO VILLANUEVA</td>\n",
       "      <td>...</td>\n",
       "      <td>Incidencia</td>\n",
       "      <td>NaN</td>\n",
       "      <td>NaN</td>\n",
       "      <td>4-Baja</td>\n",
       "      <td>NaN</td>\n",
       "      <td>No</td>\n",
       "      <td>NaN</td>\n",
       "      <td>NaN</td>\n",
       "      <td>NaN</td>\n",
       "      <td>AR_ESCALATOR</td>\n",
       "    </tr>\n",
       "    <tr>\n",
       "      <th>1</th>\n",
       "      <td>INC000003494697</td>\n",
       "      <td>RAZURI CASTRO</td>\n",
       "      <td>LUZ ANDREA</td>\n",
       "      <td>Site Name por defecto</td>\n",
       "      <td>caapmvmwlnxv13  - ALERTADO</td>\n",
       "      <td>NaN</td>\n",
       "      <td>Baja</td>\n",
       "      <td>Cerrado</td>\n",
       "      <td>Operaciones</td>\n",
       "      <td>EDISON MURILLO VILLANUEVA</td>\n",
       "      <td>...</td>\n",
       "      <td>Incidencia</td>\n",
       "      <td>NaN</td>\n",
       "      <td>NaN</td>\n",
       "      <td>4-Baja</td>\n",
       "      <td>NaN</td>\n",
       "      <td>No</td>\n",
       "      <td>NaN</td>\n",
       "      <td>NaN</td>\n",
       "      <td>NaN</td>\n",
       "      <td>AR_ESCALATOR</td>\n",
       "    </tr>\n",
       "    <tr>\n",
       "      <th>2</th>\n",
       "      <td>INC000003494624</td>\n",
       "      <td>RAZURI CASTRO</td>\n",
       "      <td>LUZ ANDREA</td>\n",
       "      <td>Site Name por defecto</td>\n",
       "      <td>caapmvmwlnxv13  - ALERTADO</td>\n",
       "      <td>NaN</td>\n",
       "      <td>Baja</td>\n",
       "      <td>Cerrado</td>\n",
       "      <td>Operaciones</td>\n",
       "      <td>EDISON MURILLO VILLANUEVA</td>\n",
       "      <td>...</td>\n",
       "      <td>Incidencia</td>\n",
       "      <td>NaN</td>\n",
       "      <td>NaN</td>\n",
       "      <td>4-Baja</td>\n",
       "      <td>NaN</td>\n",
       "      <td>No</td>\n",
       "      <td>NaN</td>\n",
       "      <td>NaN</td>\n",
       "      <td>NaN</td>\n",
       "      <td>AR_ESCALATOR</td>\n",
       "    </tr>\n",
       "  </tbody>\n",
       "</table>\n",
       "<p>3 rows × 134 columns</p>\n",
       "</div>"
      ],
      "text/plain": [
       "  ID de la incidencia*+     Apellidos+     Nombre+  Ubicación del cliente  \\\n",
       "0       INC000003495219  RAZURI CASTRO  LUZ ANDREA  Site Name por defecto   \n",
       "1       INC000003494697  RAZURI CASTRO  LUZ ANDREA  Site Name por defecto   \n",
       "2       INC000003494624  RAZURI CASTRO  LUZ ANDREA  Site Name por defecto   \n",
       "\n",
       "                     Resumen* Servicio*+ Prioridad*  Estado* Grupo asignado*+  \\\n",
       "0  caapmvmwlnxv13  - ALERTADO        NaN       Baja  Cerrado      Operaciones   \n",
       "1  caapmvmwlnxv13  - ALERTADO        NaN       Baja  Cerrado      Operaciones   \n",
       "2  caapmvmwlnxv13  - ALERTADO        NaN       Baja  Cerrado      Operaciones   \n",
       "\n",
       "           Usuario asignado+  ...  Tipo de ticket  \\\n",
       "0  EDISON MURILLO VILLANUEVA  ...      Incidencia   \n",
       "1  EDISON MURILLO VILLANUEVA  ...      Incidencia   \n",
       "2  EDISON MURILLO VILLANUEVA  ...      Incidencia   \n",
       "\n",
       "   Ubicación de asistencia del contacto directo  Ubicación del contacto  \\\n",
       "0                                           NaN                     NaN   \n",
       "1                                           NaN                     NaN   \n",
       "2                                           NaN                     NaN   \n",
       "\n",
       "  Urgencia*  Usuario desconocido VIP Zona Zona del contacto directo  \\\n",
       "0    4-Baja                  NaN  No  NaN                       NaN   \n",
       "1    4-Baja                  NaN  No  NaN                       NaN   \n",
       "2    4-Baja                  NaN  No  NaN                       NaN   \n",
       "\n",
       "  Zona horaria del contacto directo  Última modificación por  \n",
       "0                               NaN             AR_ESCALATOR  \n",
       "1                               NaN             AR_ESCALATOR  \n",
       "2                               NaN             AR_ESCALATOR  \n",
       "\n",
       "[3 rows x 134 columns]"
      ]
     },
     "execution_count": 20,
     "metadata": {},
     "output_type": "execute_result"
    }
   ],
   "source": [
    "incidencias.head(3)"
   ]
  },
  {
   "cell_type": "code",
   "execution_count": null,
   "metadata": {},
   "outputs": [],
   "source": []
  },
  {
   "cell_type": "code",
   "execution_count": 23,
   "metadata": {},
   "outputs": [
    {
     "data": {
      "text/plain": [
       "servidor        metrica                path                      \n",
       "caapmvmwlnxv13  QOS_COMPUTER_UPTIME    caapmvmwlnxv13.lnx.gp.inet    1.725819e+07\n",
       "                QOS_CPU_USAGE          caapmvmwlnxv13.lnx.gp.inet    1.286268e+00\n",
       "                QOS_DISK_USAGE_PERC    /                             2.032934e+00\n",
       "                                       /apm                          7.303027e-01\n",
       "                                       /boot                         0.000000e+00\n",
       "                                       /dev                          0.000000e+00\n",
       "                                       /dev/shm                      0.000000e+00\n",
       "                                       /home                         6.499859e+00\n",
       "                                       /smartstor                    2.215283e+00\n",
       "                                       /tmp                          1.245053e+00\n",
       "                                       /trace                        5.844544e+00\n",
       "                                       /usr                          6.235824e-02\n",
       "                                       /var                          1.240777e+00\n",
       "                QOS_MEMORY_PAGING      caapmvmwlnxv13.lnx.gp.inet    2.666824e+02\n",
       "                QOS_MEMORY_PERC_USAGE  caapmvmwlnxv13.lnx.gp.inet    1.970076e+01\n",
       "                QOS_MEMORY_SWAP_PERC   caapmvmwlnxv13.lnx.gp.inet    9.242897e+00\n",
       "                QOS_PROCESS_CPU        Collector 10                  1.418067e+00\n",
       "                QOS_PROCESS_MEMORY     Collector 10                  3.026716e+06\n",
       "                QOS_PROCESS_STATE      Collector 10                  1.703327e-01\n",
       "prd01bl         QOS_COMPUTER_UPTIME    prd01bl                       4.235054e+07\n",
       "                                       prd01bl.gp.inet               4.647580e+03\n",
       "                QOS_CPU_USAGE          prd01bl                       2.190385e+01\n",
       "                                       prd01bl.gp.inet               3.082350e+00\n",
       "                QOS_DISK_USAGE_PERC    /                             9.799761e-01\n",
       "                                       /amdocs                       0.000000e+00\n",
       "                                       /apps                         0.000000e+00\n",
       "                                       /boot                         0.000000e+00\n",
       "                                       /data2                        1.653056e+01\n",
       "                                       /dev                          0.000000e+00\n",
       "                                       /dev/shm                      0.000000e+00\n",
       "                                                                         ...     \n",
       "                QOS_PROCESS_STATE      AR9BCKRCT_01_1                1.957668e-01\n",
       "                                       AR9BULKINV                    1.664418e-01\n",
       "                                       AR9CKPYMT_01_1                2.188569e-01\n",
       "                                       AR9CNDNEXT_1                  2.104590e-01\n",
       "                                       AR9CRDBPST_01                 1.949272e-01\n",
       "                                       AR9CRDBRCT                    1.965076e-01\n",
       "                                       AR9INVADJPS_01                2.125102e-01\n",
       "                                       AR9NTFYOMS_01_1               2.602634e-01\n",
       "                                       AR9SUNATFDBCK_01_1            1.949123e-01\n",
       "                                       AR9SUSRSM                     1.960281e-01\n",
       "                                       AVMAgent_1 (AGENT423)         1.084619e-01\n",
       "                                       BL1BTLSOR_1_1                 2.793381e-01\n",
       "                                       BTLQUOTE_1_1                  1.750362e-01\n",
       "                                       BTLQUOTE_1_2                  1.711715e-01\n",
       "                                       BTLQUOTE_1_3                  1.602852e-01\n",
       "                                       BTLQUOTE_1_4                  1.577941e-01\n",
       "                                       CCS1RPJD_1                    1.710955e-01\n",
       "                                       FLH1FLHNDLR_02_2              2.015269e-01\n",
       "                                       FLH1FLHNDLR_1                 2.154822e-01\n",
       "                                       JMS531 (TRB Adapter)          2.368367e-01\n",
       "                                       MSD415                        2.712271e-01\n",
       "                                       OP1CHKIMMED_1                 1.952884e-01\n",
       "                                       OP1MRO_1                      1.314092e-01\n",
       "                                       OP1SCHEDULER_1                2.030678e-01\n",
       "                                       RM1ORDERSYNC_1                1.913690e-01\n",
       "                                       RM1REQUEST_1                  1.738198e-01\n",
       "                                       RM1THRESHOLD_1                1.335196e-01\n",
       "                                       RPL1RECOVERYD                 4.426915e-01\n",
       "                                       RQSLSNR_1_1 (BL1RQSLSNR_1)    1.353912e-01\n",
       "                                       TRB414                        3.017342e-01\n",
       "Name: value, Length: 95, dtype: float64"
      ]
     },
     "execution_count": 23,
     "metadata": {},
     "output_type": "execute_result"
    }
   ],
   "source": [
    "servidores.groupby(['servidor','metrica','path'])['value'].std()"
   ]
  },
  {
   "cell_type": "code",
   "execution_count": 24,
   "metadata": {},
   "outputs": [],
   "source": [
    "servidores_group = servidores.groupby(['servidor','metrica','path'])"
   ]
  },
  {
   "cell_type": "code",
   "execution_count": 38,
   "metadata": {},
   "outputs": [
    {
     "data": {
      "text/plain": [
       "Text(0.5, 0.98, 'CMS')"
      ]
     },
     "execution_count": 38,
     "metadata": {},
     "output_type": "execute_result"
    }
   ],
   "source": [
    "%matplotlib qt\n",
    "_,ax = plt.subplots()\n",
    "\n",
    "for r in servidores_group.groups.keys():\n",
    "    _servidor, _metrica, _path = r\n",
    "\n",
    "    #if (_metrica != 'QOS_COMPUTER_UPTIME' and _metrica != 'QOS_MEMORY_PAGING') and _servidor == 'sun6c52':\n",
    "    #if _metrica != 'QOS_COMPUTER_UPTIME' and _metrica != 'QOS_MEMORY_PAGING':\n",
    "    #if _servidor == 'prd01bl' and _metrica == 'QOS_DISK_USAGE_PERC' and _path == '/':\n",
    "    if _metrica == 'QOS_CPU_USAGE': \n",
    "        _df = servidores_group.get_group(r).copy()\n",
    "        #_df['tiempo'] = pd.to_datetime(_df['tiempo'])\n",
    "        #_df.set_index('tiempo', inplace=True)\n",
    "        _df['value'].plot(ax = ax, label= _metrica+' '+_servidor+' '+_path)\n",
    "        \n",
    "# incidencias\n",
    "\n",
    "\n",
    "\n",
    "ax.legend(loc='upper right')\n",
    "plt.suptitle('CMS', fontsize=30)"
   ]
  },
  {
   "cell_type": "code",
   "execution_count": null,
   "metadata": {},
   "outputs": [],
   "source": []
  },
  {
   "cell_type": "code",
   "execution_count": null,
   "metadata": {},
   "outputs": [],
   "source": []
  },
  {
   "cell_type": "code",
   "execution_count": null,
   "metadata": {},
   "outputs": [],
   "source": []
  },
  {
   "cell_type": "code",
   "execution_count": null,
   "metadata": {},
   "outputs": [],
   "source": []
  },
  {
   "cell_type": "code",
   "execution_count": 30,
   "metadata": {},
   "outputs": [],
   "source": [
    "from adtk.data import validate_series\n",
    "from adtk.visualization import plot\n",
    "from adtk.detector import SeasonalAD\n",
    "from adtk.detector import AutoregressionAD\n",
    "from adtk.detector import GeneralizedESDTestAD"
   ]
  },
  {
   "cell_type": "code",
   "execution_count": null,
   "metadata": {},
   "outputs": [],
   "source": []
  },
  {
   "cell_type": "code",
   "execution_count": 34,
   "metadata": {},
   "outputs": [
    {
     "data": {
      "text/plain": [
       "tiempo\n",
       "2019-08-02 00:03:22    73.58\n",
       "2019-08-02 00:08:22    65.32\n",
       "2019-08-02 00:13:22    60.94\n",
       "Name: value, dtype: float64"
      ]
     },
     "execution_count": 34,
     "metadata": {},
     "output_type": "execute_result"
    }
   ],
   "source": [
    "r = ('prd01bl', 'QOS_CPU_USAGE', 'prd01bl')\n",
    "s_train = servidores_group.get_group(r).copy()['value']\n",
    "s_train.head(3)"
   ]
  },
  {
   "cell_type": "code",
   "execution_count": 36,
   "metadata": {},
   "outputs": [],
   "source": [
    "esd_ad = GeneralizedESDTestAD(alpha=0.3)\n",
    "anomalies = esd_ad.fit_detect(s_train)\n",
    "plot(s_train, anomaly_pred=anomalies, ts_linewidth=2, ts_markersize=3, ap_markersize=5, ap_color='red', ap_marker_on_curve=True);"
   ]
  },
  {
   "cell_type": "code",
   "execution_count": 37,
   "metadata": {},
   "outputs": [
    {
     "ename": "RuntimeError",
     "evalue": "Series does not follow any known frequency (e.g. second, minute, hour, day, week, month, year, etc.",
     "output_type": "error",
     "traceback": [
      "\u001b[1;31m---------------------------------------------------------------------------\u001b[0m",
      "\u001b[1;31mRuntimeError\u001b[0m                              Traceback (most recent call last)",
      "\u001b[1;32m<ipython-input-37-22c913a586e6>\u001b[0m in \u001b[0;36m<module>\u001b[1;34m\u001b[0m\n\u001b[0;32m      1\u001b[0m \u001b[0mseasonal_ad\u001b[0m \u001b[1;33m=\u001b[0m \u001b[0mSeasonalAD\u001b[0m\u001b[1;33m(\u001b[0m\u001b[0mfreq\u001b[0m\u001b[1;33m=\u001b[0m\u001b[1;36m288\u001b[0m\u001b[1;33m)\u001b[0m\u001b[1;33m\u001b[0m\u001b[1;33m\u001b[0m\u001b[0m\n\u001b[1;32m----> 2\u001b[1;33m \u001b[0manomalies\u001b[0m \u001b[1;33m=\u001b[0m \u001b[0mseasonal_ad\u001b[0m\u001b[1;33m.\u001b[0m\u001b[0mfit_detect\u001b[0m\u001b[1;33m(\u001b[0m\u001b[0ms_train\u001b[0m\u001b[1;33m)\u001b[0m\u001b[1;33m\u001b[0m\u001b[1;33m\u001b[0m\u001b[0m\n\u001b[0m\u001b[0;32m      3\u001b[0m \u001b[0manomalies\u001b[0m\u001b[1;33m\u001b[0m\u001b[1;33m\u001b[0m\u001b[0m\n\u001b[0;32m      4\u001b[0m \u001b[1;31m#plot(s_train, anomaly_pred=anomalies, ap_color='red', ap_marker_on_curve=True)\u001b[0m\u001b[1;33m\u001b[0m\u001b[1;33m\u001b[0m\u001b[1;33m\u001b[0m\u001b[0m\n",
      "\u001b[1;32m~\\AppData\\Local\\Continuum\\anaconda3\\lib\\site-packages\\adtk\\_detector_base.py\u001b[0m in \u001b[0;36mfit_detect\u001b[1;34m(self, ts, return_list)\u001b[0m\n\u001b[0;32m     88\u001b[0m \u001b[1;33m\u001b[0m\u001b[0m\n\u001b[0;32m     89\u001b[0m         \"\"\"\n\u001b[1;32m---> 90\u001b[1;33m         \u001b[0mself\u001b[0m\u001b[1;33m.\u001b[0m\u001b[0mfit\u001b[0m\u001b[1;33m(\u001b[0m\u001b[0mts\u001b[0m\u001b[1;33m)\u001b[0m\u001b[1;33m\u001b[0m\u001b[1;33m\u001b[0m\u001b[0m\n\u001b[0m\u001b[0;32m     91\u001b[0m         \u001b[1;32mreturn\u001b[0m \u001b[0mself\u001b[0m\u001b[1;33m.\u001b[0m\u001b[0mdetect\u001b[0m\u001b[1;33m(\u001b[0m\u001b[0mts\u001b[0m\u001b[1;33m,\u001b[0m \u001b[0mreturn_list\u001b[0m\u001b[1;33m=\u001b[0m\u001b[0mreturn_list\u001b[0m\u001b[1;33m)\u001b[0m\u001b[1;33m\u001b[0m\u001b[1;33m\u001b[0m\u001b[0m\n\u001b[0;32m     92\u001b[0m \u001b[1;33m\u001b[0m\u001b[0m\n",
      "\u001b[1;32m~\\AppData\\Local\\Continuum\\anaconda3\\lib\\site-packages\\adtk\\_detector_base.py\u001b[0m in \u001b[0;36mfit\u001b[1;34m(self, ts)\u001b[0m\n\u001b[0;32m     18\u001b[0m \u001b[1;33m\u001b[0m\u001b[0m\n\u001b[0;32m     19\u001b[0m         \"\"\"\n\u001b[1;32m---> 20\u001b[1;33m         \u001b[0mself\u001b[0m\u001b[1;33m.\u001b[0m\u001b[0m_fit\u001b[0m\u001b[1;33m(\u001b[0m\u001b[0mts\u001b[0m\u001b[1;33m)\u001b[0m\u001b[1;33m\u001b[0m\u001b[1;33m\u001b[0m\u001b[0m\n\u001b[0m\u001b[0;32m     21\u001b[0m \u001b[1;33m\u001b[0m\u001b[0m\n\u001b[0;32m     22\u001b[0m     \u001b[1;32mdef\u001b[0m \u001b[0mdetect\u001b[0m\u001b[1;33m(\u001b[0m\u001b[0mself\u001b[0m\u001b[1;33m,\u001b[0m \u001b[0mts\u001b[0m\u001b[1;33m,\u001b[0m \u001b[0mreturn_list\u001b[0m\u001b[1;33m=\u001b[0m\u001b[1;32mFalse\u001b[0m\u001b[1;33m)\u001b[0m\u001b[1;33m:\u001b[0m\u001b[1;33m\u001b[0m\u001b[1;33m\u001b[0m\u001b[0m\n",
      "\u001b[1;32m~\\AppData\\Local\\Continuum\\anaconda3\\lib\\site-packages\\adtk\\_base.py\u001b[0m in \u001b[0;36m_fit\u001b[1;34m(self, ts)\u001b[0m\n\u001b[0;32m     90\u001b[0m         \u001b[1;32mif\u001b[0m \u001b[0misinstance\u001b[0m\u001b[1;33m(\u001b[0m\u001b[0mts\u001b[0m\u001b[1;33m,\u001b[0m \u001b[0mpd\u001b[0m\u001b[1;33m.\u001b[0m\u001b[0mSeries\u001b[0m\u001b[1;33m)\u001b[0m\u001b[1;33m:\u001b[0m\u001b[1;33m\u001b[0m\u001b[1;33m\u001b[0m\u001b[0m\n\u001b[0;32m     91\u001b[0m             \u001b[0ms\u001b[0m \u001b[1;33m=\u001b[0m \u001b[0mts\u001b[0m\u001b[1;33m.\u001b[0m\u001b[0mcopy\u001b[0m\u001b[1;33m(\u001b[0m\u001b[1;33m)\u001b[0m\u001b[1;33m\u001b[0m\u001b[1;33m\u001b[0m\u001b[0m\n\u001b[1;32m---> 92\u001b[1;33m             \u001b[0mself\u001b[0m\u001b[1;33m.\u001b[0m\u001b[0m_fit_core\u001b[0m\u001b[1;33m(\u001b[0m\u001b[0ms\u001b[0m\u001b[1;33m)\u001b[0m\u001b[1;33m\u001b[0m\u001b[1;33m\u001b[0m\u001b[0m\n\u001b[0m\u001b[0;32m     93\u001b[0m             \u001b[0mself\u001b[0m\u001b[1;33m.\u001b[0m\u001b[0m_models\u001b[0m \u001b[1;33m=\u001b[0m \u001b[1;32mNone\u001b[0m\u001b[1;33m\u001b[0m\u001b[1;33m\u001b[0m\u001b[0m\n\u001b[0;32m     94\u001b[0m         \u001b[1;32melif\u001b[0m \u001b[0misinstance\u001b[0m\u001b[1;33m(\u001b[0m\u001b[0mts\u001b[0m\u001b[1;33m,\u001b[0m \u001b[0mpd\u001b[0m\u001b[1;33m.\u001b[0m\u001b[0mDataFrame\u001b[0m\u001b[1;33m)\u001b[0m\u001b[1;33m:\u001b[0m\u001b[1;33m\u001b[0m\u001b[1;33m\u001b[0m\u001b[0m\n",
      "\u001b[1;32m~\\AppData\\Local\\Continuum\\anaconda3\\lib\\site-packages\\adtk\\detector\\detector_1d.py\u001b[0m in \u001b[0;36m_fit_core\u001b[1;34m(self, s)\u001b[0m\n\u001b[0;32m   1164\u001b[0m     \u001b[1;32mdef\u001b[0m \u001b[0m_fit_core\u001b[0m\u001b[1;33m(\u001b[0m\u001b[0mself\u001b[0m\u001b[1;33m,\u001b[0m \u001b[0ms\u001b[0m\u001b[1;33m)\u001b[0m\u001b[1;33m:\u001b[0m\u001b[1;33m\u001b[0m\u001b[1;33m\u001b[0m\u001b[0m\n\u001b[0;32m   1165\u001b[0m         \u001b[0mself\u001b[0m\u001b[1;33m.\u001b[0m\u001b[0m_sync_params\u001b[0m\u001b[1;33m(\u001b[0m\u001b[1;33m)\u001b[0m\u001b[1;33m\u001b[0m\u001b[1;33m\u001b[0m\u001b[0m\n\u001b[1;32m-> 1166\u001b[1;33m         \u001b[0mself\u001b[0m\u001b[1;33m.\u001b[0m\u001b[0mpipe_\u001b[0m\u001b[1;33m.\u001b[0m\u001b[0mfit\u001b[0m\u001b[1;33m(\u001b[0m\u001b[0ms\u001b[0m\u001b[1;33m)\u001b[0m\u001b[1;33m\u001b[0m\u001b[1;33m\u001b[0m\u001b[0m\n\u001b[0m\u001b[0;32m   1167\u001b[0m         \u001b[0mself\u001b[0m\u001b[1;33m.\u001b[0m\u001b[0mfreq_\u001b[0m \u001b[1;33m=\u001b[0m \u001b[0mself\u001b[0m\u001b[1;33m.\u001b[0m\u001b[0mpipe_\u001b[0m\u001b[1;33m.\u001b[0m\u001b[0msteps\u001b[0m\u001b[1;33m[\u001b[0m\u001b[1;34m\"deseasonal_residual\"\u001b[0m\u001b[1;33m]\u001b[0m\u001b[1;33m[\u001b[0m\u001b[1;34m\"model\"\u001b[0m\u001b[1;33m]\u001b[0m\u001b[1;33m.\u001b[0m\u001b[0mfreq_\u001b[0m\u001b[1;33m\u001b[0m\u001b[1;33m\u001b[0m\u001b[0m\n\u001b[0;32m   1168\u001b[0m         self.seasonal_ = self.pipe_.steps[\"deseasonal_residual\"][\n",
      "\u001b[1;32m~\\AppData\\Local\\Continuum\\anaconda3\\lib\\site-packages\\adtk\\pipe\\pipe.py\u001b[0m in \u001b[0;36mfit\u001b[1;34m(self, ts, skip_fit, return_intermediate)\u001b[0m\n\u001b[0;32m    765\u001b[0m                 \u001b[0mresults\u001b[0m\u001b[1;33m.\u001b[0m\u001b[0mupdate\u001b[0m\u001b[1;33m(\u001b[0m\u001b[1;33m{\u001b[0m\u001b[0mstep_name\u001b[0m\u001b[1;33m:\u001b[0m \u001b[0mstep\u001b[0m\u001b[1;33m[\u001b[0m\u001b[1;34m\"model\"\u001b[0m\u001b[1;33m]\u001b[0m\u001b[1;33m.\u001b[0m\u001b[0mpredict\u001b[0m\u001b[1;33m(\u001b[0m\u001b[0minput\u001b[0m\u001b[1;33m)\u001b[0m\u001b[1;33m}\u001b[0m\u001b[1;33m)\u001b[0m\u001b[1;33m\u001b[0m\u001b[1;33m\u001b[0m\u001b[0m\n\u001b[0;32m    766\u001b[0m             \u001b[1;32melse\u001b[0m\u001b[1;33m:\u001b[0m\u001b[1;33m\u001b[0m\u001b[1;33m\u001b[0m\u001b[0m\n\u001b[1;32m--> 767\u001b[1;33m                 \u001b[0mresults\u001b[0m\u001b[1;33m.\u001b[0m\u001b[0mupdate\u001b[0m\u001b[1;33m(\u001b[0m\u001b[1;33m{\u001b[0m\u001b[0mstep_name\u001b[0m\u001b[1;33m:\u001b[0m \u001b[0mstep\u001b[0m\u001b[1;33m[\u001b[0m\u001b[1;34m\"model\"\u001b[0m\u001b[1;33m]\u001b[0m\u001b[1;33m.\u001b[0m\u001b[0mfit_predict\u001b[0m\u001b[1;33m(\u001b[0m\u001b[0minput\u001b[0m\u001b[1;33m)\u001b[0m\u001b[1;33m}\u001b[0m\u001b[1;33m)\u001b[0m\u001b[1;33m\u001b[0m\u001b[1;33m\u001b[0m\u001b[0m\n\u001b[0m\u001b[0;32m    768\u001b[0m \u001b[1;33m\u001b[0m\u001b[0m\n\u001b[0;32m    769\u001b[0m         \u001b[1;31m# return intermediate results\u001b[0m\u001b[1;33m\u001b[0m\u001b[1;33m\u001b[0m\u001b[1;33m\u001b[0m\u001b[0m\n",
      "\u001b[1;32m~\\AppData\\Local\\Continuum\\anaconda3\\lib\\site-packages\\adtk\\_transformer_base.py\u001b[0m in \u001b[0;36mfit_predict\u001b[1;34m(self, ts, *args, **kwargs)\u001b[0m\n\u001b[0;32m     64\u001b[0m         \u001b[0mAlias\u001b[0m \u001b[0mof\u001b[0m\u001b[0;31m \u001b[0m\u001b[0;31m`\u001b[0m\u001b[0mfit_transform\u001b[0m\u001b[0;31m`\u001b[0m\u001b[1;33m.\u001b[0m\u001b[1;33m\u001b[0m\u001b[1;33m\u001b[0m\u001b[0m\n\u001b[0;32m     65\u001b[0m         \"\"\"\n\u001b[1;32m---> 66\u001b[1;33m         \u001b[1;32mreturn\u001b[0m \u001b[0mself\u001b[0m\u001b[1;33m.\u001b[0m\u001b[0mfit_transform\u001b[0m\u001b[1;33m(\u001b[0m\u001b[0mts\u001b[0m\u001b[1;33m)\u001b[0m\u001b[1;33m\u001b[0m\u001b[1;33m\u001b[0m\u001b[0m\n\u001b[0m\u001b[0;32m     67\u001b[0m \u001b[1;33m\u001b[0m\u001b[0m\n\u001b[0;32m     68\u001b[0m \u001b[1;33m\u001b[0m\u001b[0m\n",
      "\u001b[1;32m~\\AppData\\Local\\Continuum\\anaconda3\\lib\\site-packages\\adtk\\_transformer_base.py\u001b[0m in \u001b[0;36mfit_transform\u001b[1;34m(self, ts)\u001b[0m\n\u001b[0;32m     51\u001b[0m \u001b[1;33m\u001b[0m\u001b[0m\n\u001b[0;32m     52\u001b[0m         \"\"\"\n\u001b[1;32m---> 53\u001b[1;33m         \u001b[0mself\u001b[0m\u001b[1;33m.\u001b[0m\u001b[0mfit\u001b[0m\u001b[1;33m(\u001b[0m\u001b[0mts\u001b[0m\u001b[1;33m)\u001b[0m\u001b[1;33m\u001b[0m\u001b[1;33m\u001b[0m\u001b[0m\n\u001b[0m\u001b[0;32m     54\u001b[0m         \u001b[1;32mreturn\u001b[0m \u001b[0mself\u001b[0m\u001b[1;33m.\u001b[0m\u001b[0mpredict\u001b[0m\u001b[1;33m(\u001b[0m\u001b[0mts\u001b[0m\u001b[1;33m)\u001b[0m\u001b[1;33m\u001b[0m\u001b[1;33m\u001b[0m\u001b[0m\n\u001b[0;32m     55\u001b[0m \u001b[1;33m\u001b[0m\u001b[0m\n",
      "\u001b[1;32m~\\AppData\\Local\\Continuum\\anaconda3\\lib\\site-packages\\adtk\\_transformer_base.py\u001b[0m in \u001b[0;36mfit\u001b[1;34m(self, ts)\u001b[0m\n\u001b[0;32m     14\u001b[0m \u001b[1;33m\u001b[0m\u001b[0m\n\u001b[0;32m     15\u001b[0m         \"\"\"\n\u001b[1;32m---> 16\u001b[1;33m         \u001b[0mself\u001b[0m\u001b[1;33m.\u001b[0m\u001b[0m_fit\u001b[0m\u001b[1;33m(\u001b[0m\u001b[0mts\u001b[0m\u001b[1;33m)\u001b[0m\u001b[1;33m\u001b[0m\u001b[1;33m\u001b[0m\u001b[0m\n\u001b[0m\u001b[0;32m     17\u001b[0m \u001b[1;33m\u001b[0m\u001b[0m\n\u001b[0;32m     18\u001b[0m     \u001b[1;32mdef\u001b[0m \u001b[0mtransform\u001b[0m\u001b[1;33m(\u001b[0m\u001b[0mself\u001b[0m\u001b[1;33m,\u001b[0m \u001b[0mts\u001b[0m\u001b[1;33m)\u001b[0m\u001b[1;33m:\u001b[0m\u001b[1;33m\u001b[0m\u001b[1;33m\u001b[0m\u001b[0m\n",
      "\u001b[1;32m~\\AppData\\Local\\Continuum\\anaconda3\\lib\\site-packages\\adtk\\_base.py\u001b[0m in \u001b[0;36m_fit\u001b[1;34m(self, ts)\u001b[0m\n\u001b[0;32m     90\u001b[0m         \u001b[1;32mif\u001b[0m \u001b[0misinstance\u001b[0m\u001b[1;33m(\u001b[0m\u001b[0mts\u001b[0m\u001b[1;33m,\u001b[0m \u001b[0mpd\u001b[0m\u001b[1;33m.\u001b[0m\u001b[0mSeries\u001b[0m\u001b[1;33m)\u001b[0m\u001b[1;33m:\u001b[0m\u001b[1;33m\u001b[0m\u001b[1;33m\u001b[0m\u001b[0m\n\u001b[0;32m     91\u001b[0m             \u001b[0ms\u001b[0m \u001b[1;33m=\u001b[0m \u001b[0mts\u001b[0m\u001b[1;33m.\u001b[0m\u001b[0mcopy\u001b[0m\u001b[1;33m(\u001b[0m\u001b[1;33m)\u001b[0m\u001b[1;33m\u001b[0m\u001b[1;33m\u001b[0m\u001b[0m\n\u001b[1;32m---> 92\u001b[1;33m             \u001b[0mself\u001b[0m\u001b[1;33m.\u001b[0m\u001b[0m_fit_core\u001b[0m\u001b[1;33m(\u001b[0m\u001b[0ms\u001b[0m\u001b[1;33m)\u001b[0m\u001b[1;33m\u001b[0m\u001b[1;33m\u001b[0m\u001b[0m\n\u001b[0m\u001b[0;32m     93\u001b[0m             \u001b[0mself\u001b[0m\u001b[1;33m.\u001b[0m\u001b[0m_models\u001b[0m \u001b[1;33m=\u001b[0m \u001b[1;32mNone\u001b[0m\u001b[1;33m\u001b[0m\u001b[1;33m\u001b[0m\u001b[0m\n\u001b[0;32m     94\u001b[0m         \u001b[1;32melif\u001b[0m \u001b[0misinstance\u001b[0m\u001b[1;33m(\u001b[0m\u001b[0mts\u001b[0m\u001b[1;33m,\u001b[0m \u001b[0mpd\u001b[0m\u001b[1;33m.\u001b[0m\u001b[0mDataFrame\u001b[0m\u001b[1;33m)\u001b[0m\u001b[1;33m:\u001b[0m\u001b[1;33m\u001b[0m\u001b[1;33m\u001b[0m\u001b[0m\n",
      "\u001b[1;32m~\\AppData\\Local\\Continuum\\anaconda3\\lib\\site-packages\\adtk\\transformer\\transformer_1d.py\u001b[0m in \u001b[0;36m_fit_core\u001b[1;34m(self, s)\u001b[0m\n\u001b[0;32m    742\u001b[0m         \u001b[1;32mif\u001b[0m \u001b[0mself\u001b[0m\u001b[1;33m.\u001b[0m\u001b[0m_series_freq\u001b[0m \u001b[1;32mis\u001b[0m \u001b[1;32mNone\u001b[0m\u001b[1;33m:\u001b[0m\u001b[1;33m\u001b[0m\u001b[1;33m\u001b[0m\u001b[0m\n\u001b[0;32m    743\u001b[0m             raise RuntimeError(\n\u001b[1;32m--> 744\u001b[1;33m                 \u001b[1;34m\"Series does not follow any known frequency \"\u001b[0m\u001b[1;33m\u001b[0m\u001b[1;33m\u001b[0m\u001b[0m\n\u001b[0m\u001b[0;32m    745\u001b[0m                 \u001b[1;34m\"(e.g. second, minute, hour, day, week, month, year, etc.\"\u001b[0m\u001b[1;33m\u001b[0m\u001b[1;33m\u001b[0m\u001b[0m\n\u001b[0;32m    746\u001b[0m             )\n",
      "\u001b[1;31mRuntimeError\u001b[0m: Series does not follow any known frequency (e.g. second, minute, hour, day, week, month, year, etc."
     ]
    }
   ],
   "source": [
    "seasonal_ad = SeasonalAD(freq=288)\n",
    "anomalies = seasonal_ad.fit_detect(s_train)\n",
    "anomalies\n",
    "#plot(s_train, anomaly_pred=anomalies, ap_color='red', ap_marker_on_curve=True)"
   ]
  },
  {
   "cell_type": "code",
   "execution_count": null,
   "metadata": {},
   "outputs": [],
   "source": []
  }
 ],
 "metadata": {
  "kernelspec": {
   "display_name": "Python 3",
   "language": "python",
   "name": "python3"
  },
  "language_info": {
   "codemirror_mode": {
    "name": "ipython",
    "version": 3
   },
   "file_extension": ".py",
   "mimetype": "text/x-python",
   "name": "python",
   "nbconvert_exporter": "python",
   "pygments_lexer": "ipython3",
   "version": "3.7.3"
  }
 },
 "nbformat": 4,
 "nbformat_minor": 4
}
